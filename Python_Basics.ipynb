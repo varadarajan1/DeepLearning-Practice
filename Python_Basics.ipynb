{
  "nbformat": 4,
  "nbformat_minor": 0,
  "metadata": {
    "colab": {
      "name": "Python_Basics.ipynb",
      "provenance": [],
      "collapsed_sections": [
        "tKWzeQLv6xfr",
        "TVnZSDmD659d",
        "d4C1wOCH7DIV",
        "GRUYd6l78IEN",
        "__u9KcW8ERo9"
      ],
      "toc_visible": true,
      "include_colab_link": true
    },
    "kernelspec": {
      "name": "python3",
      "display_name": "Python 3"
    }
  },
  "cells": [
    {
      "cell_type": "markdown",
      "metadata": {
        "id": "view-in-github",
        "colab_type": "text"
      },
      "source": [
        "<a href=\"https://colab.research.google.com/github/varadarajan1/DeepLearning-Practice/blob/master/Python_Basics.ipynb\" target=\"_parent\"><img src=\"https://colab.research.google.com/assets/colab-badge.svg\" alt=\"Open In Colab\"/></a>"
      ]
    },
    {
      "cell_type": "markdown",
      "metadata": {
        "id": "tKWzeQLv6xfr",
        "colab_type": "text"
      },
      "source": [
        "# Data Types"
      ]
    },
    {
      "cell_type": "code",
      "metadata": {
        "id": "tPwEcyFs1vVc",
        "colab_type": "code",
        "outputId": "db53f52a-deb1-455b-c5a3-c13b9c25bf2a",
        "colab": {
          "base_uri": "https://localhost:8080/",
          "height": 34
        }
      },
      "source": [
        "! ls"
      ],
      "execution_count": 0,
      "outputs": [
        {
          "output_type": "stream",
          "text": [
            "sample_data\n"
          ],
          "name": "stdout"
        }
      ]
    },
    {
      "cell_type": "markdown",
      "metadata": {
        "id": "dfyZrzIG6Igr",
        "colab_type": "text"
      },
      "source": [
        "Add **!** in front to exceute shell commands"
      ]
    },
    {
      "cell_type": "code",
      "metadata": {
        "id": "JiCqPpHI2PmG",
        "colab_type": "code",
        "colab": {}
      },
      "source": [
        "name = \"iPhone 5s\""
      ],
      "execution_count": 0,
      "outputs": []
    },
    {
      "cell_type": "code",
      "metadata": {
        "id": "lAApCtjS2TNO",
        "colab_type": "code",
        "outputId": "b70f74fd-8aec-43e0-82b4-13dc987e1435",
        "colab": {
          "base_uri": "https://localhost:8080/",
          "height": 34
        }
      },
      "source": [
        "type(name)"
      ],
      "execution_count": 0,
      "outputs": [
        {
          "output_type": "execute_result",
          "data": {
            "text/plain": [
              "str"
            ]
          },
          "metadata": {
            "tags": []
          },
          "execution_count": 50
        }
      ]
    },
    {
      "cell_type": "code",
      "metadata": {
        "id": "rYrEzUEd2VHv",
        "colab_type": "code",
        "outputId": "d199a108-2159-49aa-c860-7e70af474963",
        "colab": {
          "base_uri": "https://localhost:8080/",
          "height": 34
        }
      },
      "source": [
        "print(name)"
      ],
      "execution_count": 0,
      "outputs": [
        {
          "output_type": "stream",
          "text": [
            "iPhone 5s\n"
          ],
          "name": "stdout"
        }
      ]
    },
    {
      "cell_type": "code",
      "metadata": {
        "id": "cbTfF7s92XWO",
        "colab_type": "code",
        "colab": {}
      },
      "source": [
        "number_of_speakers = 10"
      ],
      "execution_count": 0,
      "outputs": []
    },
    {
      "cell_type": "code",
      "metadata": {
        "id": "-tXtAcA12a5t",
        "colab_type": "code",
        "outputId": "3be3ac12-a83d-4969-e72f-3dd4733ecf57",
        "colab": {
          "base_uri": "https://localhost:8080/",
          "height": 34
        }
      },
      "source": [
        "type(number_of_speakers)"
      ],
      "execution_count": 0,
      "outputs": [
        {
          "output_type": "execute_result",
          "data": {
            "text/plain": [
              "int"
            ]
          },
          "metadata": {
            "tags": []
          },
          "execution_count": 8
        }
      ]
    },
    {
      "cell_type": "code",
      "metadata": {
        "id": "-DhRJdyU2cxy",
        "colab_type": "code",
        "outputId": "0887b5a5-da58-4ff8-a28c-a5e3050c550f",
        "colab": {
          "base_uri": "https://localhost:8080/",
          "height": 34
        }
      },
      "source": [
        "print(\"I bought a new \"+ name)"
      ],
      "execution_count": 0,
      "outputs": [
        {
          "output_type": "stream",
          "text": [
            "I bought a new iPhone 5s\n"
          ],
          "name": "stdout"
        }
      ]
    },
    {
      "cell_type": "code",
      "metadata": {
        "id": "7emZJQBa2pUh",
        "colab_type": "code",
        "outputId": "32cce420-680e-40d8-a1e5-c89cafd9d149",
        "colab": {
          "base_uri": "https://localhost:8080/",
          "height": 34
        }
      },
      "source": [
        "a = 3\n",
        "b= 2\n",
        "print(a+b, a-b, a/b, a//b, a**b)\n"
      ],
      "execution_count": 0,
      "outputs": [
        {
          "output_type": "stream",
          "text": [
            "5 1 1.5 1 9\n"
          ],
          "name": "stdout"
        }
      ]
    },
    {
      "cell_type": "code",
      "metadata": {
        "id": "-MdLAUn18UMd",
        "colab_type": "code",
        "colab": {}
      },
      "source": [
        "screen_size=5.7"
      ],
      "execution_count": 0,
      "outputs": []
    },
    {
      "cell_type": "code",
      "metadata": {
        "id": "9-02xYuM8Y-h",
        "colab_type": "code",
        "outputId": "f48fe82e-945b-4ed8-fe1a-e0e1b8aeb4b6",
        "colab": {
          "base_uri": "https://localhost:8080/",
          "height": 34
        }
      },
      "source": [
        "print(screen_size)"
      ],
      "execution_count": 0,
      "outputs": [
        {
          "output_type": "stream",
          "text": [
            "5.7\n"
          ],
          "name": "stdout"
        }
      ]
    },
    {
      "cell_type": "code",
      "metadata": {
        "id": "OP7GoFZ-2qOJ",
        "colab_type": "code",
        "colab": {}
      },
      "source": [
        "is_android = False"
      ],
      "execution_count": 0,
      "outputs": []
    },
    {
      "cell_type": "code",
      "metadata": {
        "id": "nc8-xLGi278n",
        "colab_type": "code",
        "outputId": "0faa23bb-77ca-46d2-bca5-b8f48c26c937",
        "colab": {
          "base_uri": "https://localhost:8080/",
          "height": 34
        }
      },
      "source": [
        "type(is_android)"
      ],
      "execution_count": 0,
      "outputs": [
        {
          "output_type": "execute_result",
          "data": {
            "text/plain": [
              "bool"
            ]
          },
          "metadata": {
            "tags": []
          },
          "execution_count": 13
        }
      ]
    },
    {
      "cell_type": "code",
      "metadata": {
        "id": "E2R3TRXc295C",
        "colab_type": "code",
        "outputId": "0dc8d7ec-27be-412c-d999-4494d36fee62",
        "colab": {
          "base_uri": "https://localhost:8080/",
          "height": 34
        }
      },
      "source": [
        "print(is_android==True)"
      ],
      "execution_count": 0,
      "outputs": [
        {
          "output_type": "stream",
          "text": [
            "False\n"
          ],
          "name": "stdout"
        }
      ]
    },
    {
      "cell_type": "code",
      "metadata": {
        "id": "ZC7w7TWh3Eeu",
        "colab_type": "code",
        "outputId": "cefa8663-15d4-4b73-bcd9-29c8a311d002",
        "colab": {
          "base_uri": "https://localhost:8080/",
          "height": 34
        }
      },
      "source": [
        "print(is_android==False and number_of_speakers>2)"
      ],
      "execution_count": 0,
      "outputs": [
        {
          "output_type": "stream",
          "text": [
            "True\n"
          ],
          "name": "stdout"
        }
      ]
    },
    {
      "cell_type": "markdown",
      "metadata": {
        "id": "TVnZSDmD659d",
        "colab_type": "text"
      },
      "source": [
        "# Code blocks - If,For,While"
      ]
    },
    {
      "cell_type": "code",
      "metadata": {
        "id": "4xWPt4TT3Pao",
        "colab_type": "code",
        "outputId": "740ea48b-6b01-44c3-cdf4-1d759e00648b",
        "colab": {
          "base_uri": "https://localhost:8080/",
          "height": 34
        }
      },
      "source": [
        "if(is_android == True):\n",
        "  print(name+\"supports android\")\n",
        "  print(\"Still inside android block\")\n",
        "print(\"Outside if block\")"
      ],
      "execution_count": 0,
      "outputs": [
        {
          "output_type": "stream",
          "text": [
            "Outside if block\n"
          ],
          "name": "stdout"
        }
      ]
    },
    {
      "cell_type": "code",
      "metadata": {
        "id": "NcOmvRlS3Smg",
        "colab_type": "code",
        "outputId": "ac2bb5d5-26d1-409b-c159-fa8b6110b1af",
        "colab": {
          "base_uri": "https://localhost:8080/",
          "height": 104
        }
      },
      "source": [
        "for i in range(5):\n",
        "  print(i,i*i)"
      ],
      "execution_count": 0,
      "outputs": [
        {
          "output_type": "stream",
          "text": [
            "0 0\n",
            "1 1\n",
            "2 4\n",
            "3 9\n",
            "4 16\n"
          ],
          "name": "stdout"
        }
      ]
    },
    {
      "cell_type": "code",
      "metadata": {
        "id": "IDl9TnwB3pqY",
        "colab_type": "code",
        "outputId": "a2c73c15-396e-4c90-d3df-10d1a2d08b02",
        "colab": {
          "base_uri": "https://localhost:8080/",
          "height": 208
        }
      },
      "source": [
        "i=0\n",
        "while i<=10:\n",
        "  print(i,i*i)\n",
        "  i+=1"
      ],
      "execution_count": 0,
      "outputs": [
        {
          "output_type": "stream",
          "text": [
            "0 0\n",
            "1 1\n",
            "2 4\n",
            "3 9\n",
            "4 16\n",
            "5 25\n",
            "6 36\n",
            "7 49\n",
            "8 64\n",
            "9 81\n",
            "10 100\n"
          ],
          "name": "stdout"
        }
      ]
    },
    {
      "cell_type": "code",
      "metadata": {
        "id": "KDR2UBmI4ESJ",
        "colab_type": "code",
        "colab": {}
      },
      "source": [
        "def print_squares(number:int):\n",
        "  for i in range(number):\n",
        "    print(i,i*i)"
      ],
      "execution_count": 0,
      "outputs": []
    },
    {
      "cell_type": "markdown",
      "metadata": {
        "id": "d4C1wOCH7DIV",
        "colab_type": "text"
      },
      "source": [
        "# Functions"
      ]
    },
    {
      "cell_type": "code",
      "metadata": {
        "id": "Pnk4k9Le4SCj",
        "colab_type": "code",
        "outputId": "43ca4451-740b-4731-f907-aec9c21471c8",
        "colab": {
          "base_uri": "https://localhost:8080/",
          "height": 86
        }
      },
      "source": [
        "print_squares(4)"
      ],
      "execution_count": 0,
      "outputs": [
        {
          "output_type": "stream",
          "text": [
            "0 0\n",
            "1 1\n",
            "2 4\n",
            "3 9\n"
          ],
          "name": "stdout"
        }
      ]
    },
    {
      "cell_type": "code",
      "metadata": {
        "id": "dzgsMb_44XmT",
        "colab_type": "code",
        "colab": {}
      },
      "source": [
        "def sum_of_squares(number:int)->int:\n",
        "  sum=0\n",
        "  for i in range(number):\n",
        "    sum+=i*i\n",
        "  return sum"
      ],
      "execution_count": 0,
      "outputs": []
    },
    {
      "cell_type": "code",
      "metadata": {
        "id": "RMA5iYAZ4uno",
        "colab_type": "code",
        "outputId": "adb94475-233f-4229-beba-07142c94a1c4",
        "colab": {
          "base_uri": "https://localhost:8080/",
          "height": 34
        }
      },
      "source": [
        "sum_of_squares(5)"
      ],
      "execution_count": 0,
      "outputs": [
        {
          "output_type": "execute_result",
          "data": {
            "text/plain": [
              "30"
            ]
          },
          "metadata": {
            "tags": []
          },
          "execution_count": 35
        }
      ]
    },
    {
      "cell_type": "code",
      "metadata": {
        "id": "av_v53c34xsz",
        "colab_type": "code",
        "outputId": "2db43176-f594-4751-c3d4-6e671afb3c35",
        "colab": {
          "base_uri": "https://localhost:8080/",
          "height": 34
        }
      },
      "source": [
        "sum_5 = sum_of_squares(5)\n",
        "print(sum_5)"
      ],
      "execution_count": 0,
      "outputs": [
        {
          "output_type": "stream",
          "text": [
            "30\n"
          ],
          "name": "stdout"
        }
      ]
    },
    {
      "cell_type": "code",
      "metadata": {
        "id": "Is9Rq7I943Tx",
        "colab_type": "code",
        "colab": {}
      },
      "source": [
        "def print_with_startVal(stop_val,start_val=0):\n",
        "  \"\"\"Prints squares of numbers between start_val(inclusive) and stop_val(exclusive)\"\"\"\n",
        "  for i in range(start_val, stop_val):\n",
        "    print(i, i*i)"
      ],
      "execution_count": 0,
      "outputs": []
    },
    {
      "cell_type": "code",
      "metadata": {
        "id": "048FXYSB5Kgs",
        "colab_type": "code",
        "outputId": "fbb8b252-87d9-4fef-82a2-a3e0f15a06ce",
        "colab": {
          "base_uri": "https://localhost:8080/",
          "height": 104
        }
      },
      "source": [
        "print_with_startVal(5)"
      ],
      "execution_count": 0,
      "outputs": [
        {
          "output_type": "stream",
          "text": [
            "0 0\n",
            "1 1\n",
            "2 4\n",
            "3 9\n",
            "4 16\n"
          ],
          "name": "stdout"
        }
      ]
    },
    {
      "cell_type": "code",
      "metadata": {
        "id": "G7Agmyxj5cdI",
        "colab_type": "code",
        "outputId": "fef44d56-5fa8-4590-98f5-681f199da701",
        "colab": {
          "base_uri": "https://localhost:8080/",
          "height": 86
        }
      },
      "source": [
        "print_with_startVal(5,1)"
      ],
      "execution_count": 0,
      "outputs": [
        {
          "output_type": "stream",
          "text": [
            "1 1\n",
            "2 4\n",
            "3 9\n",
            "4 16\n"
          ],
          "name": "stdout"
        }
      ]
    },
    {
      "cell_type": "code",
      "metadata": {
        "id": "jUTNS_2n5nl6",
        "colab_type": "code",
        "outputId": "fc8e3cce-42e4-4ae6-e145-21a7495f674d",
        "colab": {
          "base_uri": "https://localhost:8080/",
          "height": 104
        }
      },
      "source": [
        "help(print_with_startVal)"
      ],
      "execution_count": 0,
      "outputs": [
        {
          "output_type": "stream",
          "text": [
            "Help on function print_with_startVal in module __main__:\n",
            "\n",
            "print_with_startVal(stop_val, start_val=0)\n",
            "    Prints squares of numbers between start_val(inclusive) and stop_val(exclusive)\n",
            "\n"
          ],
          "name": "stdout"
        }
      ]
    },
    {
      "cell_type": "markdown",
      "metadata": {
        "id": "GRUYd6l78IEN",
        "colab_type": "text"
      },
      "source": [
        "# Lists"
      ]
    },
    {
      "cell_type": "code",
      "metadata": {
        "id": "cR2Aj0lt8KBI",
        "colab_type": "code",
        "colab": {}
      },
      "source": [
        "my_phone=[name, is_android, screen_size]"
      ],
      "execution_count": 0,
      "outputs": []
    },
    {
      "cell_type": "code",
      "metadata": {
        "id": "e58n54r29PyF",
        "colab_type": "code",
        "colab": {}
      },
      "source": [
        ""
      ],
      "execution_count": 0,
      "outputs": []
    },
    {
      "cell_type": "code",
      "metadata": {
        "id": "NpGoZ6v48dfx",
        "colab_type": "code",
        "outputId": "ef852ac1-205e-47bc-8ba2-f53f21844cd7",
        "colab": {
          "base_uri": "https://localhost:8080/",
          "height": 34
        }
      },
      "source": [
        "type(my_phone)"
      ],
      "execution_count": 0,
      "outputs": [
        {
          "output_type": "execute_result",
          "data": {
            "text/plain": [
              "list"
            ]
          },
          "metadata": {
            "tags": []
          },
          "execution_count": 54
        }
      ]
    },
    {
      "cell_type": "code",
      "metadata": {
        "id": "-fF_4A9J8sPM",
        "colab_type": "code",
        "outputId": "018fec56-0729-4d11-b1cb-e5ca043dbf75",
        "colab": {
          "base_uri": "https://localhost:8080/",
          "height": 34
        }
      },
      "source": [
        "print(my_phone)"
      ],
      "execution_count": 0,
      "outputs": [
        {
          "output_type": "stream",
          "text": [
            "['iPhone 5s', False, 5.7]\n"
          ],
          "name": "stdout"
        }
      ]
    },
    {
      "cell_type": "code",
      "metadata": {
        "id": "qjnkFn7K8tpa",
        "colab_type": "code",
        "outputId": "cc1e5984-7351-4fcb-cc49-91ef52b1d247",
        "colab": {
          "base_uri": "https://localhost:8080/",
          "height": 34
        }
      },
      "source": [
        "my_phone[1:3]"
      ],
      "execution_count": 0,
      "outputs": [
        {
          "output_type": "execute_result",
          "data": {
            "text/plain": [
              "[False, 5.7]"
            ]
          },
          "metadata": {
            "tags": []
          },
          "execution_count": 58
        }
      ]
    },
    {
      "cell_type": "code",
      "metadata": {
        "id": "g5Oot8dD896I",
        "colab_type": "code",
        "outputId": "262da669-799a-44e5-f92e-3a6b895044fc",
        "colab": {
          "base_uri": "https://localhost:8080/",
          "height": 34
        }
      },
      "source": [
        "my_dad_phone = my_phone\n",
        "print(my_dad_phone)"
      ],
      "execution_count": 0,
      "outputs": [
        {
          "output_type": "stream",
          "text": [
            "['iPhone 5s', False, 5.7]\n"
          ],
          "name": "stdout"
        }
      ]
    },
    {
      "cell_type": "code",
      "metadata": {
        "id": "O7E8ZlOf8vxx",
        "colab_type": "code",
        "outputId": "74a0a3c0-26cc-4596-99af-fe09d5c39d40",
        "colab": {
          "base_uri": "https://localhost:8080/",
          "height": 34
        }
      },
      "source": [
        "my_phone[0]"
      ],
      "execution_count": 0,
      "outputs": [
        {
          "output_type": "execute_result",
          "data": {
            "text/plain": [
              "'iPhone 5s'"
            ]
          },
          "metadata": {
            "tags": []
          },
          "execution_count": 59
        }
      ]
    },
    {
      "cell_type": "code",
      "metadata": {
        "id": "IxNZ_T4H84tL",
        "colab_type": "code",
        "colab": {}
      },
      "source": [
        "my_phone[2]=4"
      ],
      "execution_count": 0,
      "outputs": []
    },
    {
      "cell_type": "code",
      "metadata": {
        "id": "gsMmq-G_9Joc",
        "colab_type": "code",
        "outputId": "14248a62-9adc-45d4-f14e-4f1ee8be78e3",
        "colab": {
          "base_uri": "https://localhost:8080/",
          "height": 34
        }
      },
      "source": [
        "print(my_dad_phone)"
      ],
      "execution_count": 0,
      "outputs": [
        {
          "output_type": "stream",
          "text": [
            "['iPhone 5s', False, 4]\n"
          ],
          "name": "stdout"
        }
      ]
    },
    {
      "cell_type": "code",
      "metadata": {
        "id": "2ryZVWlM9MTB",
        "colab_type": "code",
        "colab": {}
      },
      "source": [
        ""
      ],
      "execution_count": 0,
      "outputs": []
    },
    {
      "cell_type": "markdown",
      "metadata": {
        "id": "zk18fYd69Yps",
        "colab_type": "text"
      },
      "source": [
        "Deep Copy"
      ]
    },
    {
      "cell_type": "code",
      "metadata": {
        "id": "tzjroyOk9Z_N",
        "colab_type": "code",
        "colab": {}
      },
      "source": [
        "my_dad_phone = list(my_phone)"
      ],
      "execution_count": 0,
      "outputs": []
    },
    {
      "cell_type": "code",
      "metadata": {
        "id": "6kTU8lMT9eiw",
        "colab_type": "code",
        "outputId": "6d22bf8b-087f-4f3a-b7a2-6316e8ead9e1",
        "colab": {
          "base_uri": "https://localhost:8080/",
          "height": 52
        }
      },
      "source": [
        "my_phone[0]='iPhone 7S'\n",
        "print(my_phone)\n",
        "print(my_dad_phone)"
      ],
      "execution_count": 0,
      "outputs": [
        {
          "output_type": "stream",
          "text": [
            "['iPhone 7S', False, 5.7]\n",
            "['iPhone 5s', False, 5.7]\n"
          ],
          "name": "stdout"
        }
      ]
    },
    {
      "cell_type": "code",
      "metadata": {
        "id": "8CLQdMjC9jds",
        "colab_type": "code",
        "outputId": "0315f6c6-ae25-48d7-8c3e-d78ea7c241fc",
        "colab": {
          "base_uri": "https://localhost:8080/",
          "height": 34
        }
      },
      "source": [
        "len(my_phone)"
      ],
      "execution_count": 0,
      "outputs": [
        {
          "output_type": "execute_result",
          "data": {
            "text/plain": [
              "3"
            ]
          },
          "metadata": {
            "tags": []
          },
          "execution_count": 71
        }
      ]
    },
    {
      "cell_type": "code",
      "metadata": {
        "id": "BtfBIYsp9tNy",
        "colab_type": "code",
        "outputId": "bbb42917-f42e-4b76-ee62-d7a600d35c22",
        "colab": {
          "base_uri": "https://localhost:8080/",
          "height": 34
        }
      },
      "source": [
        "my_phone.append(\"3G\")\n",
        "len(my_phone)"
      ],
      "execution_count": 0,
      "outputs": [
        {
          "output_type": "execute_result",
          "data": {
            "text/plain": [
              "4"
            ]
          },
          "metadata": {
            "tags": []
          },
          "execution_count": 73
        }
      ]
    },
    {
      "cell_type": "markdown",
      "metadata": {
        "id": "uktI2JE799uj",
        "colab_type": "text"
      },
      "source": [
        "Append a *list* to a *list*"
      ]
    },
    {
      "cell_type": "code",
      "metadata": {
        "id": "EiUtY20u-EiJ",
        "colab_type": "code",
        "colab": {}
      },
      "source": [
        "some_prefs = [\"Single sim\",100]"
      ],
      "execution_count": 0,
      "outputs": []
    },
    {
      "cell_type": "code",
      "metadata": {
        "id": "KjYVlyNI-KbG",
        "colab_type": "code",
        "colab": {}
      },
      "source": [
        "my_phone+=some_prefs"
      ],
      "execution_count": 0,
      "outputs": []
    },
    {
      "cell_type": "code",
      "metadata": {
        "id": "kpABlExN-PoP",
        "colab_type": "code",
        "outputId": "540c62c3-e445-4e69-f5de-ac9ab9959c5b",
        "colab": {
          "base_uri": "https://localhost:8080/",
          "height": 121
        }
      },
      "source": [
        "for i in my_phone:\n",
        "  print(i)"
      ],
      "execution_count": 0,
      "outputs": [
        {
          "output_type": "stream",
          "text": [
            "iPhone 7S\n",
            "False\n",
            "5.7\n",
            "3G\n",
            "Single sim\n",
            "100\n"
          ],
          "name": "stdout"
        }
      ]
    },
    {
      "cell_type": "code",
      "metadata": {
        "id": "1bJrwlx9-XK0",
        "colab_type": "code",
        "outputId": "842c7b7b-db5b-4f7d-d1c6-1bffdafd33c7",
        "colab": {
          "base_uri": "https://localhost:8080/",
          "height": 34
        }
      },
      "source": [
        "range(5)"
      ],
      "execution_count": 0,
      "outputs": [
        {
          "output_type": "execute_result",
          "data": {
            "text/plain": [
              "range(0, 5)"
            ]
          },
          "metadata": {
            "tags": []
          },
          "execution_count": 78
        }
      ]
    },
    {
      "cell_type": "code",
      "metadata": {
        "id": "QvpVLD1E-Sm4",
        "colab_type": "code",
        "colab": {}
      },
      "source": [
        "a = list(range(5))"
      ],
      "execution_count": 0,
      "outputs": []
    },
    {
      "cell_type": "code",
      "metadata": {
        "id": "Nc_CFVus-fJZ",
        "colab_type": "code",
        "outputId": "35f2cf3a-4c66-4ff5-b136-fca27a227594",
        "colab": {
          "base_uri": "https://localhost:8080/",
          "height": 34
        }
      },
      "source": [
        "b = list(map(lambda x: x**2, a))\n",
        "print(b)"
      ],
      "execution_count": 0,
      "outputs": [
        {
          "output_type": "stream",
          "text": [
            "[0, 1, 4, 9, 16]\n"
          ],
          "name": "stdout"
        }
      ]
    },
    {
      "cell_type": "code",
      "metadata": {
        "id": "ivqpvqiO-wPg",
        "colab_type": "code",
        "outputId": "ddf59698-8118-4bfb-83d3-b251c1cc6548",
        "colab": {
          "base_uri": "https://localhost:8080/",
          "height": 34
        }
      },
      "source": [
        "c = list(filter(lambda x: x%2==0,b))\n",
        "print(c)"
      ],
      "execution_count": 0,
      "outputs": [
        {
          "output_type": "stream",
          "text": [
            "[0, 4, 16]\n"
          ],
          "name": "stdout"
        }
      ]
    },
    {
      "cell_type": "markdown",
      "metadata": {
        "id": "__u9KcW8ERo9",
        "colab_type": "text"
      },
      "source": [
        "# Tuples, Sets and Dictionaries\n"
      ]
    },
    {
      "cell_type": "code",
      "metadata": {
        "id": "qVfMDd6L_JiU",
        "colab_type": "code",
        "outputId": "555f7156-b7ab-4871-9ee7-cf2814440db5",
        "colab": {
          "base_uri": "https://localhost:8080/",
          "height": 34
        }
      },
      "source": [
        "my_tuple = ('iPhone 5s', False, 4.3)\n",
        "print(my_tuple)"
      ],
      "execution_count": 0,
      "outputs": [
        {
          "output_type": "stream",
          "text": [
            "('iPhone 5s', False, 4.3)\n"
          ],
          "name": "stdout"
        }
      ]
    },
    {
      "cell_type": "code",
      "metadata": {
        "id": "TtafWlkl_29X",
        "colab_type": "code",
        "outputId": "ae15b292-74bc-4fdf-e5ab-7dfff424baa3",
        "colab": {
          "base_uri": "https://localhost:8080/",
          "height": 69
        }
      },
      "source": [
        "for data in my_tuple:\n",
        "  print(data)"
      ],
      "execution_count": 0,
      "outputs": [
        {
          "output_type": "stream",
          "text": [
            "iPhone 5s\n",
            "False\n",
            "4.3\n"
          ],
          "name": "stdout"
        }
      ]
    },
    {
      "cell_type": "code",
      "metadata": {
        "id": "m1yophHN_6BR",
        "colab_type": "code",
        "outputId": "8df24aad-848d-47d4-a5e8-bcc5c4c3f0de",
        "colab": {
          "base_uri": "https://localhost:8080/",
          "height": 167
        }
      },
      "source": [
        "# Tuples are immutable. This will throw an error\n",
        "my_tuple[1] = True "
      ],
      "execution_count": 0,
      "outputs": [
        {
          "output_type": "error",
          "ename": "TypeError",
          "evalue": "ignored",
          "traceback": [
            "\u001b[0;31m---------------------------------------------------------------------------\u001b[0m",
            "\u001b[0;31mTypeError\u001b[0m                                 Traceback (most recent call last)",
            "\u001b[0;32m<ipython-input-95-18cdc977056e>\u001b[0m in \u001b[0;36m<module>\u001b[0;34m()\u001b[0m\n\u001b[0;32m----> 1\u001b[0;31m \u001b[0mmy_tuple\u001b[0m\u001b[0;34m[\u001b[0m\u001b[0;36m1\u001b[0m\u001b[0;34m]\u001b[0m \u001b[0;34m=\u001b[0m \u001b[0;32mTrue\u001b[0m\u001b[0;34m\u001b[0m\u001b[0;34m\u001b[0m\u001b[0m\n\u001b[0m",
            "\u001b[0;31mTypeError\u001b[0m: 'tuple' object does not support item assignment"
          ]
        }
      ]
    },
    {
      "cell_type": "code",
      "metadata": {
        "id": "10rKEXVVABLX",
        "colab_type": "code",
        "colab": {}
      },
      "source": [
        "import time"
      ],
      "execution_count": 0,
      "outputs": []
    },
    {
      "cell_type": "code",
      "metadata": {
        "id": "0tcobpQ7AL2W",
        "colab_type": "code",
        "outputId": "836ef06d-d534-4c30-a23e-fb5cc4ddd3b1",
        "colab": {
          "base_uri": "https://localhost:8080/",
          "height": 34
        }
      },
      "source": [
        "tic = time.time()\n",
        "print(tic)"
      ],
      "execution_count": 0,
      "outputs": [
        {
          "output_type": "stream",
          "text": [
            "1567428256.8362336\n"
          ],
          "name": "stdout"
        }
      ]
    },
    {
      "cell_type": "code",
      "metadata": {
        "id": "JQ_v_7hKAQuT",
        "colab_type": "code",
        "colab": {}
      },
      "source": [
        "time.time?"
      ],
      "execution_count": 0,
      "outputs": []
    },
    {
      "cell_type": "code",
      "metadata": {
        "id": "10WcnF_uAhYp",
        "colab_type": "code",
        "outputId": "69e9031f-09dc-4a2d-b626-322e790408b7",
        "colab": {
          "base_uri": "https://localhost:8080/",
          "height": 34
        }
      },
      "source": [
        "tic = time.time()\n",
        "# Do some task\n",
        "toc = time.time()\n",
        "print(\"Time elapsed:\",toc-tic)"
      ],
      "execution_count": 0,
      "outputs": [
        {
          "output_type": "stream",
          "text": [
            "Time elapsed: 4.458427429199219e-05\n"
          ],
          "name": "stdout"
        }
      ]
    },
    {
      "cell_type": "code",
      "metadata": {
        "id": "3YyJ882HAkAk",
        "colab_type": "code",
        "outputId": "4e8a1978-9f78-4f4f-a17d-dc67a392b1b2",
        "colab": {
          "base_uri": "https://localhost:8080/",
          "height": 34
        }
      },
      "source": [
        "a = list(range(1000000))\n",
        "tic = time.time()\n",
        "b = list(map(lambda x:x*x,a))\n",
        "toc = time.time()\n",
        "print(\"Elapsed time:\",toc-tic)"
      ],
      "execution_count": 0,
      "outputs": [
        {
          "output_type": "stream",
          "text": [
            "Elapsed time: 0.14019203186035156\n"
          ],
          "name": "stdout"
        }
      ]
    },
    {
      "cell_type": "code",
      "metadata": {
        "id": "1oU_uZVUBFOF",
        "colab_type": "code",
        "outputId": "36cbb567-cae5-44ce-d668-b261a6ad2477",
        "colab": {
          "base_uri": "https://localhost:8080/",
          "height": 34
        }
      },
      "source": [
        "# Tuples are faster\n",
        "a = tuple(range(1000000))\n",
        "tic = time.time()\n",
        "b = list(map(lambda x:x*x,a))\n",
        "toc = time.time()\n",
        "print(\"Elapsed time:\",toc-tic)"
      ],
      "execution_count": 0,
      "outputs": [
        {
          "output_type": "stream",
          "text": [
            "Elapsed time: 0.12270593643188477\n"
          ],
          "name": "stdout"
        }
      ]
    },
    {
      "cell_type": "code",
      "metadata": {
        "id": "Bh9Uyj9oDeQA",
        "colab_type": "code",
        "outputId": "f25e1bc8-1144-4ec3-97c0-503339a4b11a",
        "colab": {
          "base_uri": "https://localhost:8080/",
          "height": 34
        }
      },
      "source": [
        "# Sets don't allow duplicates\n",
        "my_set = set(my_phone)\n",
        "print(my_set)"
      ],
      "execution_count": 0,
      "outputs": [
        {
          "output_type": "stream",
          "text": [
            "{False, 100, 5.7, 'iPhone 7S', '3G', 'Single sim'}\n"
          ],
          "name": "stdout"
        }
      ]
    },
    {
      "cell_type": "code",
      "metadata": {
        "id": "SpImlGKuDyjQ",
        "colab_type": "code",
        "outputId": "eae3d67c-bd21-4db8-a853-b949811d16a2",
        "colab": {
          "base_uri": "https://localhost:8080/",
          "height": 34
        }
      },
      "source": [
        "my_phone.append(5.7)\n",
        "my_set = set(my_phone)\n",
        "print(my_set)"
      ],
      "execution_count": 0,
      "outputs": [
        {
          "output_type": "stream",
          "text": [
            "{False, 100, 5.7, 'iPhone 7S', '3G', 'Single sim'}\n"
          ],
          "name": "stdout"
        }
      ]
    },
    {
      "cell_type": "code",
      "metadata": {
        "id": "3WeG77PSEAr5",
        "colab_type": "code",
        "outputId": "36952d1d-6635-4739-a516-7f4b56b4cb48",
        "colab": {
          "base_uri": "https://localhost:8080/",
          "height": 34
        }
      },
      "source": [
        "my_phone_dic = {}\n",
        "type(my_phone_dic)"
      ],
      "execution_count": 0,
      "outputs": [
        {
          "output_type": "execute_result",
          "data": {
            "text/plain": [
              "dict"
            ]
          },
          "metadata": {
            "tags": []
          },
          "execution_count": 113
        }
      ]
    },
    {
      "cell_type": "code",
      "metadata": {
        "id": "ZprpbMFpEmWs",
        "colab_type": "code",
        "outputId": "4fd34cb6-c328-4889-9410-7292ff3c1727",
        "colab": {
          "base_uri": "https://localhost:8080/",
          "height": 34
        }
      },
      "source": [
        "my_phone_dic[\"name\"]=\"iPhone 5s\"\n",
        "my_phone_dic[\"isAndroid\"]=True\n",
        "my_phone_dic[\"screenSize\"]= 4.3\n",
        "print(my_phone_dic)"
      ],
      "execution_count": 0,
      "outputs": [
        {
          "output_type": "stream",
          "text": [
            "{'name': 'iPhone 5s', 'isAndroid': True, 'screenSize': 4.3}\n"
          ],
          "name": "stdout"
        }
      ]
    },
    {
      "cell_type": "code",
      "metadata": {
        "id": "LD8jgEcXE9RN",
        "colab_type": "code",
        "outputId": "7b852cfa-e4da-4e73-c333-734419a275c0",
        "colab": {
          "base_uri": "https://localhost:8080/",
          "height": 34
        }
      },
      "source": [
        "my_phone_dic[\"screenSize\"]"
      ],
      "execution_count": 0,
      "outputs": [
        {
          "output_type": "execute_result",
          "data": {
            "text/plain": [
              "4.3"
            ]
          },
          "metadata": {
            "tags": []
          },
          "execution_count": 116
        }
      ]
    },
    {
      "cell_type": "code",
      "metadata": {
        "id": "6umf3otsFGRs",
        "colab_type": "code",
        "outputId": "0d2a1131-3a63-4dca-d894-d3f340087f8d",
        "colab": {
          "base_uri": "https://localhost:8080/",
          "height": 34
        }
      },
      "source": [
        "my_phone_dic.values()"
      ],
      "execution_count": 0,
      "outputs": [
        {
          "output_type": "execute_result",
          "data": {
            "text/plain": [
              "dict_values(['iPhone 5s', True, 4.3])"
            ]
          },
          "metadata": {
            "tags": []
          },
          "execution_count": 118
        }
      ]
    },
    {
      "cell_type": "code",
      "metadata": {
        "id": "th-taLaYFNe0",
        "colab_type": "code",
        "outputId": "0b985b63-63eb-43c4-ea90-4f692476b09f",
        "colab": {
          "base_uri": "https://localhost:8080/",
          "height": 34
        }
      },
      "source": [
        "my_phone_dic.keys()"
      ],
      "execution_count": 0,
      "outputs": [
        {
          "output_type": "execute_result",
          "data": {
            "text/plain": [
              "dict_keys(['name', 'isAndroid', 'screenSize'])"
            ]
          },
          "metadata": {
            "tags": []
          },
          "execution_count": 119
        }
      ]
    },
    {
      "cell_type": "code",
      "metadata": {
        "id": "amxeYacBFTnQ",
        "colab_type": "code",
        "outputId": "3ed6c677-1ee9-46d8-cfea-1997c7f969c0",
        "colab": {
          "base_uri": "https://localhost:8080/",
          "height": 69
        }
      },
      "source": [
        "for key in my_phone_dic.keys():\n",
        "  print(key,my_phone_dic[key])"
      ],
      "execution_count": 0,
      "outputs": [
        {
          "output_type": "stream",
          "text": [
            "name iPhone 5s\n",
            "isAndroid True\n",
            "screenSize 4.3\n"
          ],
          "name": "stdout"
        }
      ]
    },
    {
      "cell_type": "code",
      "metadata": {
        "id": "2vDqlfVOFcSY",
        "colab_type": "code",
        "colab": {}
      },
      "source": [
        ""
      ],
      "execution_count": 0,
      "outputs": []
    },
    {
      "cell_type": "markdown",
      "metadata": {
        "id": "xRPppJNXFpfQ",
        "colab_type": "text"
      },
      "source": [
        "# Packages"
      ]
    },
    {
      "cell_type": "code",
      "metadata": {
        "id": "HVyIytHyFr67",
        "colab_type": "code",
        "outputId": "0aafc2f5-0a0e-4451-9c45-8f2afebf0a45",
        "colab": {
          "base_uri": "https://localhost:8080/",
          "height": 34
        }
      },
      "source": [
        "import math\n",
        "a = math.sqrt(4)\n",
        "print(a)"
      ],
      "execution_count": 0,
      "outputs": [
        {
          "output_type": "stream",
          "text": [
            "2.0\n"
          ],
          "name": "stdout"
        }
      ]
    },
    {
      "cell_type": "code",
      "metadata": {
        "id": "XfPLRBaxF2VU",
        "colab_type": "code",
        "colab": {}
      },
      "source": [
        "b = math.pow(2,2)"
      ],
      "execution_count": 0,
      "outputs": []
    },
    {
      "cell_type": "code",
      "metadata": {
        "id": "RcDz8ljmF8uJ",
        "colab_type": "code",
        "outputId": "bb79df91-0c27-4828-bdc0-c26aa859e114",
        "colab": {
          "base_uri": "https://localhost:8080/",
          "height": 34
        }
      },
      "source": [
        "import math as m\n",
        "print(m.factorial(10))"
      ],
      "execution_count": 0,
      "outputs": [
        {
          "output_type": "stream",
          "text": [
            "3628800\n"
          ],
          "name": "stdout"
        }
      ]
    },
    {
      "cell_type": "code",
      "metadata": {
        "id": "ucgjn1M7GRK3",
        "colab_type": "code",
        "outputId": "7d851f16-5b22-4b78-ffcd-1a734b63ed9a",
        "colab": {
          "base_uri": "https://localhost:8080/",
          "height": 34
        }
      },
      "source": [
        "from math import factorial\n",
        "print(factorial(10))"
      ],
      "execution_count": 0,
      "outputs": [
        {
          "output_type": "stream",
          "text": [
            "3628800\n"
          ],
          "name": "stdout"
        }
      ]
    },
    {
      "cell_type": "code",
      "metadata": {
        "id": "rvspAJu9GXo3",
        "colab_type": "code",
        "colab": {}
      },
      "source": [
        "! echo 'def hello():''' > my_first_module.py\n",
        "! echo '  print(\"Hello, I am from a different file\")' >>  my_first_module.py"
      ],
      "execution_count": 0,
      "outputs": []
    },
    {
      "cell_type": "code",
      "metadata": {
        "id": "2bZogUveHohA",
        "colab_type": "code",
        "outputId": "410a0857-28ce-4082-e293-1cedfb24f0bc",
        "colab": {
          "base_uri": "https://localhost:8080/",
          "height": 34
        }
      },
      "source": [
        "import my_first_module\n",
        "my_first_module.hello()"
      ],
      "execution_count": 0,
      "outputs": [
        {
          "output_type": "stream",
          "text": [
            "Hello, I am from a different file\n"
          ],
          "name": "stdout"
        }
      ]
    },
    {
      "cell_type": "code",
      "metadata": {
        "id": "C4MyhDUkHydM",
        "colab_type": "code",
        "colab": {}
      },
      "source": [
        "from my_first_module import hello\n",
        "hello()"
      ],
      "execution_count": 0,
      "outputs": []
    },
    {
      "cell_type": "code",
      "metadata": {
        "id": "0Bvso8ogH1mP",
        "colab_type": "code",
        "colab": {}
      },
      "source": [
        ""
      ],
      "execution_count": 0,
      "outputs": []
    },
    {
      "cell_type": "markdown",
      "metadata": {
        "id": "rzzwy6Q_VSkL",
        "colab_type": "text"
      },
      "source": [
        "# File Handling"
      ]
    },
    {
      "cell_type": "code",
      "metadata": {
        "id": "7KdVYGKVVWlu",
        "colab_type": "code",
        "outputId": "4d29407a-4abc-49e3-fa80-d4ebf0a0cea3",
        "colab": {
          "base_uri": "https://localhost:8080/",
          "height": 228
        }
      },
      "source": [
        "!wget https://s3.amazonaws.com/thinkific-import/153034/mobile_cleaned-1549119762886.csv"
      ],
      "execution_count": 0,
      "outputs": [
        {
          "output_type": "stream",
          "text": [
            "--2019-09-02 14:17:54--  https://s3.amazonaws.com/thinkific-import/153034/mobile_cleaned-1549119762886.csv\n",
            "Resolving s3.amazonaws.com (s3.amazonaws.com)... 52.216.147.5\n",
            "Connecting to s3.amazonaws.com (s3.amazonaws.com)|52.216.147.5|:443... connected.\n",
            "HTTP request sent, awaiting response... 200 OK\n",
            "Length: 14044 (14K) [text/csv]\n",
            "Saving to: ‘mobile_cleaned-1549119762886.csv’\n",
            "\n",
            "\r          mobile_cl   0%[                    ]       0  --.-KB/s               \rmobile_cleaned-1549 100%[===================>]  13.71K  --.-KB/s    in 0s      \n",
            "\n",
            "2019-09-02 14:17:54 (153 MB/s) - ‘mobile_cleaned-1549119762886.csv’ saved [14044/14044]\n",
            "\n"
          ],
          "name": "stdout"
        }
      ]
    },
    {
      "cell_type": "code",
      "metadata": {
        "id": "dKJGswGkVtek",
        "colab_type": "code",
        "outputId": "f931eccf-4cae-412a-f796-50b59dd023ff",
        "colab": {
          "base_uri": "https://localhost:8080/",
          "height": 72
        }
      },
      "source": [
        "file = open(\"mobile_cleaned-1549119762886.csv\",'r')\n",
        "print(file.readline())"
      ],
      "execution_count": 0,
      "outputs": [
        {
          "output_type": "stream",
          "text": [
            "sim_type,aperture,gpu_rank,weight,stand_by_time,processor_frequency,thickness,flash_type,front_camera_resolution,auto_focus,screen_size,frames_per_second,FM,no_of_reviews_in_gsmarena_in_week,os,phone_height,screen_protection,sim_size,price,talk_time,video_resolution,display_resolution,removable_battery,display_type,primary_camera_resolution,battery_type,ram_memory,internal_memory,brand_rank,no_of_cores,micro_sd_slot,screen_pixel_density,water_proof_rate,phone_width,expandable_memory,version,usb_type,battery_capacity,processor_rank,is_liked\n",
            "\n"
          ],
          "name": "stdout"
        }
      ]
    },
    {
      "cell_type": "code",
      "metadata": {
        "id": "TAlm2YL8V1HK",
        "colab_type": "code",
        "colab": {}
      },
      "source": [
        "file.close()"
      ],
      "execution_count": 0,
      "outputs": []
    },
    {
      "cell_type": "code",
      "metadata": {
        "id": "a7AZx0M9V6Nw",
        "colab_type": "code",
        "colab": {}
      },
      "source": [
        "with open(\"mobile_cleaned-1549119762886.csv\",'r') as file:\n",
        "   for line in file:\n",
        "      print(line)"
      ],
      "execution_count": 0,
      "outputs": []
    },
    {
      "cell_type": "code",
      "metadata": {
        "id": "shQLMcZWWQLZ",
        "colab_type": "code",
        "colab": {}
      },
      "source": [
        "with open(\"mobile_cleaned-1549119762886.csv\",'r') as file:\n",
        "   for line in file:\n",
        "      for word in line.split(','):\n",
        "        print(word)\n",
        "      print(\"--------------\")"
      ],
      "execution_count": 0,
      "outputs": []
    },
    {
      "cell_type": "code",
      "metadata": {
        "id": "XrA1cySWWeuG",
        "colab_type": "code",
        "colab": {}
      },
      "source": [
        "with open(\"test_output.txt\",'w') as file:\n",
        "    file.write(\"Hello world\")"
      ],
      "execution_count": 0,
      "outputs": []
    },
    {
      "cell_type": "code",
      "metadata": {
        "id": "vPH3Z5brWwUy",
        "colab_type": "code",
        "outputId": "121c9b05-0cf3-49bb-de02-832b912e15a4",
        "colab": {
          "base_uri": "https://localhost:8080/",
          "height": 34
        }
      },
      "source": [
        "!cat test_output.txt"
      ],
      "execution_count": 0,
      "outputs": [
        {
          "output_type": "stream",
          "text": [
            "Hello world"
          ],
          "name": "stdout"
        }
      ]
    },
    {
      "cell_type": "markdown",
      "metadata": {
        "id": "Bx8tNkkW_JZi",
        "colab_type": "text"
      },
      "source": [
        "# Python Class"
      ]
    },
    {
      "cell_type": "code",
      "metadata": {
        "id": "lyyFd5FJ_Nx7",
        "colab_type": "code",
        "colab": {}
      },
      "source": [
        "class MobilePhone:\n",
        "  \"\"\"This class holds details of the mobile phone\"\"\"\n",
        "  def __init__(self, name, is_Android = False, screen_size=5.4):\n",
        "    self.name = name\n",
        "    self.is_Android = is_Android\n",
        "    self.screen_size = screen_size\n",
        "    self.ratings = -1\n",
        "  \n",
        "  def has_ratings(self)->bool:\n",
        "    return self.ratings>-1"
      ],
      "execution_count": 0,
      "outputs": []
    },
    {
      "cell_type": "code",
      "metadata": {
        "id": "krxDeEj-_ZoK",
        "colab_type": "code",
        "outputId": "11401183-657f-4b73-8c55-38256fadfae4",
        "colab": {
          "base_uri": "https://localhost:8080/",
          "height": 34
        }
      },
      "source": [
        "new_phone = MobilePhone(\"iPhone5s\")\n",
        "print(new_phone.name, new_phone.is_Android, new_phone.screen_size)"
      ],
      "execution_count": 0,
      "outputs": [
        {
          "output_type": "stream",
          "text": [
            "iPhone5s False 5.4\n"
          ],
          "name": "stdout"
        }
      ]
    },
    {
      "cell_type": "code",
      "metadata": {
        "id": "qwVCL92kAVha",
        "colab_type": "code",
        "outputId": "34b95d67-d87c-478c-e0e4-e1c573a84b93",
        "colab": {
          "base_uri": "https://localhost:8080/",
          "height": 51
        }
      },
      "source": [
        "print(new_phone.has_ratings())\n",
        "new_phone.ratings=5\n",
        "print(new_phone.has_ratings())"
      ],
      "execution_count": 0,
      "outputs": [
        {
          "output_type": "stream",
          "text": [
            "True\n",
            "True\n"
          ],
          "name": "stdout"
        }
      ]
    },
    {
      "cell_type": "code",
      "metadata": {
        "id": "9tncbOb2A67u",
        "colab_type": "code",
        "outputId": "07fdfa82-468b-48cd-a494-3d33f4e231ce",
        "colab": {
          "base_uri": "https://localhost:8080/",
          "height": 34
        }
      },
      "source": [
        "MobilePhone.__doc__"
      ],
      "execution_count": 0,
      "outputs": [
        {
          "output_type": "execute_result",
          "data": {
            "text/plain": [
              "'This class holds details of the mobile phone'"
            ]
          },
          "metadata": {
            "tags": []
          },
          "execution_count": 26
        }
      ]
    },
    {
      "cell_type": "markdown",
      "metadata": {
        "id": "XKcH5b_eBD6T",
        "colab_type": "text"
      },
      "source": [
        "Inheritance in Python"
      ]
    },
    {
      "cell_type": "code",
      "metadata": {
        "id": "gvj416P9BG8D",
        "colab_type": "code",
        "colab": {}
      },
      "source": [
        "class iPhone"
      ],
      "execution_count": 0,
      "outputs": []
    },
    {
      "cell_type": "markdown",
      "metadata": {
        "id": "8fBLV0W_9PPu",
        "colab_type": "text"
      },
      "source": [
        "# NumPy"
      ]
    },
    {
      "cell_type": "code",
      "metadata": {
        "id": "YurpqmE7oHDQ",
        "colab_type": "code",
        "colab": {}
      },
      "source": [
        "import numpy as np"
      ],
      "execution_count": 0,
      "outputs": []
    },
    {
      "cell_type": "code",
      "metadata": {
        "id": "IrcnYIBcoQf1",
        "colab_type": "code",
        "colab": {
          "base_uri": "https://localhost:8080/",
          "height": 34
        },
        "outputId": "6e3c8c0f-8f3d-4491-ec2f-f4835f4f3c66"
      },
      "source": [
        "x = np.array([1,2,3])\n",
        "print(x)"
      ],
      "execution_count": 10,
      "outputs": [
        {
          "output_type": "stream",
          "text": [
            "[1 2 3]\n"
          ],
          "name": "stdout"
        }
      ]
    },
    {
      "cell_type": "code",
      "metadata": {
        "id": "MKO0va8ToVDa",
        "colab_type": "code",
        "colab": {
          "base_uri": "https://localhost:8080/",
          "height": 34
        },
        "outputId": "88e4f0ce-f69f-4b8f-8152-9b3e48eb0b49"
      },
      "source": [
        "type(x)"
      ],
      "execution_count": 11,
      "outputs": [
        {
          "output_type": "execute_result",
          "data": {
            "text/plain": [
              "numpy.ndarray"
            ]
          },
          "metadata": {
            "tags": []
          },
          "execution_count": 11
        }
      ]
    },
    {
      "cell_type": "code",
      "metadata": {
        "id": "4kew1Lc9ooVj",
        "colab_type": "code",
        "colab": {
          "base_uri": "https://localhost:8080/",
          "height": 34
        },
        "outputId": "dcafaafb-92fc-48da-f4ae-e270e3c4fc65"
      },
      "source": [
        "l = [1,2,3]\n",
        "x = np.asarray(l)\n",
        "print(l)"
      ],
      "execution_count": 13,
      "outputs": [
        {
          "output_type": "stream",
          "text": [
            "[1, 2, 3]\n"
          ],
          "name": "stdout"
        }
      ]
    },
    {
      "cell_type": "code",
      "metadata": {
        "id": "exepUHF0ovzq",
        "colab_type": "code",
        "colab": {
          "base_uri": "https://localhost:8080/",
          "height": 34
        },
        "outputId": "a8b2846a-abaf-46cc-a878-d7c602d83a5f"
      },
      "source": [
        "x = np.asarray(l,float)\n",
        "print(x)"
      ],
      "execution_count": 15,
      "outputs": [
        {
          "output_type": "stream",
          "text": [
            "[1. 2. 3.]\n"
          ],
          "name": "stdout"
        }
      ]
    },
    {
      "cell_type": "code",
      "metadata": {
        "id": "9ESXz_D_o5i7",
        "colab_type": "code",
        "colab": {
          "base_uri": "https://localhost:8080/",
          "height": 34
        },
        "outputId": "74f89b9a-3da5-4cfa-d271-34209ed3ec33"
      },
      "source": [
        "x.shape"
      ],
      "execution_count": 17,
      "outputs": [
        {
          "output_type": "execute_result",
          "data": {
            "text/plain": [
              "(3,)"
            ]
          },
          "metadata": {
            "tags": []
          },
          "execution_count": 17
        }
      ]
    },
    {
      "cell_type": "code",
      "metadata": {
        "id": "APEExbf9o_Jy",
        "colab_type": "code",
        "colab": {}
      },
      "source": [
        " # help\n",
        "np.array?"
      ],
      "execution_count": 0,
      "outputs": []
    },
    {
      "cell_type": "code",
      "metadata": {
        "id": "VsBdxKE8pR-z",
        "colab_type": "code",
        "colab": {
          "base_uri": "https://localhost:8080/",
          "height": 69
        },
        "outputId": "5b3e04ff-e4f8-4e66-9bc4-61a6d03c7aaf"
      },
      "source": [
        "x=np.array([[1,2,3],[4,5,6]])\n",
        "print(x)\n",
        "print(x.shape)"
      ],
      "execution_count": 23,
      "outputs": [
        {
          "output_type": "stream",
          "text": [
            "[[1 2 3]\n",
            " [4 5 6]]\n",
            "(2, 3)\n"
          ],
          "name": "stdout"
        }
      ]
    },
    {
      "cell_type": "code",
      "metadata": {
        "id": "lpDUePxspoay",
        "colab_type": "code",
        "colab": {
          "base_uri": "https://localhost:8080/",
          "height": 34
        },
        "outputId": "1dffe955-a312-412b-f85f-6e3c123f2e9f"
      },
      "source": [
        "x[1,2]"
      ],
      "execution_count": 25,
      "outputs": [
        {
          "output_type": "execute_result",
          "data": {
            "text/plain": [
              "6"
            ]
          },
          "metadata": {
            "tags": []
          },
          "execution_count": 25
        }
      ]
    },
    {
      "cell_type": "code",
      "metadata": {
        "id": "HMMGxCJep8mW",
        "colab_type": "code",
        "colab": {
          "base_uri": "https://localhost:8080/",
          "height": 34
        },
        "outputId": "56b67e87-f932-4c82-dfea-1865b49afea1"
      },
      "source": [
        "x[1,0:3]"
      ],
      "execution_count": 27,
      "outputs": [
        {
          "output_type": "execute_result",
          "data": {
            "text/plain": [
              "array([4, 5, 6])"
            ]
          },
          "metadata": {
            "tags": []
          },
          "execution_count": 27
        }
      ]
    },
    {
      "cell_type": "code",
      "metadata": {
        "id": "-dpxcn3Qp-YB",
        "colab_type": "code",
        "colab": {
          "base_uri": "https://localhost:8080/",
          "height": 34
        },
        "outputId": "efc1bf97-068c-4651-8f22-d883a141ad85"
      },
      "source": [
        "x[0,:]"
      ],
      "execution_count": 29,
      "outputs": [
        {
          "output_type": "execute_result",
          "data": {
            "text/plain": [
              "array([1, 2, 3])"
            ]
          },
          "metadata": {
            "tags": []
          },
          "execution_count": 29
        }
      ]
    },
    {
      "cell_type": "code",
      "metadata": {
        "id": "uARPA3L8qE1K",
        "colab_type": "code",
        "colab": {}
      },
      "source": [
        "x=np.zeros((4,5))"
      ],
      "execution_count": 0,
      "outputs": []
    },
    {
      "cell_type": "code",
      "metadata": {
        "id": "lu0Zk2DlqD_4",
        "colab_type": "code",
        "colab": {
          "base_uri": "https://localhost:8080/",
          "height": 86
        },
        "outputId": "659c6ebf-4cc4-461a-a593-9d991e6a778a"
      },
      "source": [
        "print(x)"
      ],
      "execution_count": 34,
      "outputs": [
        {
          "output_type": "stream",
          "text": [
            "[[0. 0. 0. 0. 0.]\n",
            " [0. 0. 0. 0. 0.]\n",
            " [0. 0. 0. 0. 0.]\n",
            " [0. 0. 0. 0. 0.]]\n"
          ],
          "name": "stdout"
        }
      ]
    },
    {
      "cell_type": "code",
      "metadata": {
        "id": "WuXjozPnqZnj",
        "colab_type": "code",
        "colab": {
          "base_uri": "https://localhost:8080/",
          "height": 86
        },
        "outputId": "db11a0ef-2168-47d4-9fb5-fd9341e6db91"
      },
      "source": [
        "x = np.eye(4,4)\n",
        "print(x)"
      ],
      "execution_count": 38,
      "outputs": [
        {
          "output_type": "stream",
          "text": [
            "[[1. 0. 0. 0.]\n",
            " [0. 1. 0. 0.]\n",
            " [0. 0. 1. 0.]\n",
            " [0. 0. 0. 1.]]\n"
          ],
          "name": "stdout"
        }
      ]
    },
    {
      "cell_type": "code",
      "metadata": {
        "id": "NNPnuLz_qitD",
        "colab_type": "code",
        "colab": {
          "base_uri": "https://localhost:8080/",
          "height": 86
        },
        "outputId": "451ec232-70bf-40ee-ee3c-b95405998193"
      },
      "source": [
        "x = np.random.random((4,5))\n",
        "print(x)"
      ],
      "execution_count": 42,
      "outputs": [
        {
          "output_type": "stream",
          "text": [
            "[[0.40252157 0.49813788 0.55055269 0.09332161 0.59507414]\n",
            " [0.8145468  0.54946849 0.90184683 0.65761508 0.24758623]\n",
            " [0.74685283 0.73069679 0.86173966 0.98331783 0.62280525]\n",
            " [0.95563197 0.56133036 0.53755673 0.69408871 0.52203585]]\n"
          ],
          "name": "stdout"
        }
      ]
    },
    {
      "cell_type": "code",
      "metadata": {
        "id": "j-lH468Cqngy",
        "colab_type": "code",
        "colab": {
          "base_uri": "https://localhost:8080/",
          "height": 104
        },
        "outputId": "c2764fe2-b756-46cd-9efc-66ae560602e1"
      },
      "source": [
        "# Transpose\n",
        "z = x.T\n",
        "print(z)"
      ],
      "execution_count": 45,
      "outputs": [
        {
          "output_type": "stream",
          "text": [
            "[[0.40252157 0.8145468  0.74685283 0.95563197]\n",
            " [0.49813788 0.54946849 0.73069679 0.56133036]\n",
            " [0.55055269 0.90184683 0.86173966 0.53755673]\n",
            " [0.09332161 0.65761508 0.98331783 0.69408871]\n",
            " [0.59507414 0.24758623 0.62280525 0.52203585]]\n"
          ],
          "name": "stdout"
        }
      ]
    },
    {
      "cell_type": "code",
      "metadata": {
        "id": "YayGqWc_q6hK",
        "colab_type": "code",
        "colab": {
          "base_uri": "https://localhost:8080/",
          "height": 364
        },
        "outputId": "02b10588-9da5-44b1-b8f6-1d38758e9e45"
      },
      "source": [
        "y = x.reshape(20,1)\n",
        "print(y)"
      ],
      "execution_count": 50,
      "outputs": [
        {
          "output_type": "stream",
          "text": [
            "[[0.40252157]\n",
            " [0.49813788]\n",
            " [0.55055269]\n",
            " [0.09332161]\n",
            " [0.59507414]\n",
            " [0.8145468 ]\n",
            " [0.54946849]\n",
            " [0.90184683]\n",
            " [0.65761508]\n",
            " [0.24758623]\n",
            " [0.74685283]\n",
            " [0.73069679]\n",
            " [0.86173966]\n",
            " [0.98331783]\n",
            " [0.62280525]\n",
            " [0.95563197]\n",
            " [0.56133036]\n",
            " [0.53755673]\n",
            " [0.69408871]\n",
            " [0.52203585]]\n"
          ],
          "name": "stdout"
        }
      ]
    },
    {
      "cell_type": "code",
      "metadata": {
        "id": "2-8OwMt9rSId",
        "colab_type": "code",
        "colab": {
          "base_uri": "https://localhost:8080/",
          "height": 34
        },
        "outputId": "d116340c-13ea-4782-f630-c9de7a891d42"
      },
      "source": [
        "A = np.arange(5)\n",
        "print(A)"
      ],
      "execution_count": 52,
      "outputs": [
        {
          "output_type": "stream",
          "text": [
            "[0 1 2 3 4]\n"
          ],
          "name": "stdout"
        }
      ]
    },
    {
      "cell_type": "code",
      "metadata": {
        "id": "mgZsWzYarhxV",
        "colab_type": "code",
        "colab": {
          "base_uri": "https://localhost:8080/",
          "height": 34
        },
        "outputId": "e51a4699-ac4a-4013-b618-40e54a770498"
      },
      "source": [
        "B = np.arange(5)\n",
        "C = A+B\n",
        "D = A-B\n",
        "E = A * B\n",
        "print(C,D,E)"
      ],
      "execution_count": 53,
      "outputs": [
        {
          "output_type": "stream",
          "text": [
            "[0 2 4 6 8] [0 0 0 0 0] [ 0  1  4  9 16]\n"
          ],
          "name": "stdout"
        }
      ]
    },
    {
      "cell_type": "code",
      "metadata": {
        "id": "cRtSIVgCrqir",
        "colab_type": "code",
        "colab": {
          "base_uri": "https://localhost:8080/",
          "height": 34
        },
        "outputId": "a3e65f9f-5e64-43e0-cc88-f64f3b6dd288"
      },
      "source": [
        "print(A, A+1)"
      ],
      "execution_count": 54,
      "outputs": [
        {
          "output_type": "stream",
          "text": [
            "[0 1 2 3 4] [1 2 3 4 5]\n"
          ],
          "name": "stdout"
        }
      ]
    },
    {
      "cell_type": "code",
      "metadata": {
        "id": "BBdUqZIPrYRz",
        "colab_type": "code",
        "colab": {
          "base_uri": "https://localhost:8080/",
          "height": 86
        },
        "outputId": "e1064a53-9ce6-4951-9190-9168082d5a12"
      },
      "source": [
        "A = np.random.random([2,4])\n",
        "print(A)\n",
        "print(A+1)"
      ],
      "execution_count": 55,
      "outputs": [
        {
          "output_type": "stream",
          "text": [
            "[[0.30692887 0.70213922 0.18593442 0.87604573]\n",
            " [0.38258269 0.81450966 0.91734153 0.54877468]]\n",
            "[[1.30692887 1.70213922 1.18593442 1.87604573]\n",
            " [1.38258269 1.81450966 1.91734153 1.54877468]]\n"
          ],
          "name": "stdout"
        }
      ]
    },
    {
      "cell_type": "code",
      "metadata": {
        "id": "0fCsxPXEr3RI",
        "colab_type": "code",
        "colab": {
          "base_uri": "https://localhost:8080/",
          "height": 52
        },
        "outputId": "370f4a8e-6c74-4799-9aca-8518a371cc95"
      },
      "source": [
        "A = np.floor(np.random.np.random.random([2,3])*10)\n",
        "print(A)"
      ],
      "execution_count": 57,
      "outputs": [
        {
          "output_type": "stream",
          "text": [
            "[[1. 7. 5.]\n",
            " [1. 9. 8.]]\n"
          ],
          "name": "stdout"
        }
      ]
    },
    {
      "cell_type": "code",
      "metadata": {
        "id": "7HIaRsD5sGiQ",
        "colab_type": "code",
        "colab": {
          "base_uri": "https://localhost:8080/",
          "height": 34
        },
        "outputId": "d4a474d1-f282-4fc0-b001-668ab5897ef4"
      },
      "source": [
        "u = [1,2,3]\n",
        "v =[-1,0,1]\n",
        "\n",
        "p1 = np.inner(u,v)\n",
        "print(p1)"
      ],
      "execution_count": 60,
      "outputs": [
        {
          "output_type": "stream",
          "text": [
            "2\n"
          ],
          "name": "stdout"
        }
      ]
    },
    {
      "cell_type": "code",
      "metadata": {
        "id": "EPnpkb80saL9",
        "colab_type": "code",
        "colab": {
          "base_uri": "https://localhost:8080/",
          "height": 69
        },
        "outputId": "54cf98b9-6442-480f-a135-8d5e931a58f2"
      },
      "source": [
        "p2 = np.outer(u,v)\n",
        "print(p2)"
      ],
      "execution_count": 62,
      "outputs": [
        {
          "output_type": "stream",
          "text": [
            "[[-1  0  1]\n",
            " [-2  0  2]\n",
            " [-3  0  3]]\n"
          ],
          "name": "stdout"
        }
      ]
    },
    {
      "cell_type": "code",
      "metadata": {
        "id": "6ajf0fQSsi0Q",
        "colab_type": "code",
        "colab": {
          "base_uri": "https://localhost:8080/",
          "height": 52
        },
        "outputId": "85ea70b9-a4a9-41f0-d212-08646e6f940e"
      },
      "source": [
        "A = np.ones([2,3])\n",
        "B = np.ones((3,2))\n",
        "np.dot(A,B)"
      ],
      "execution_count": 64,
      "outputs": [
        {
          "output_type": "execute_result",
          "data": {
            "text/plain": [
              "array([[3., 3.],\n",
              "       [3., 3.]])"
            ]
          },
          "metadata": {
            "tags": []
          },
          "execution_count": 64
        }
      ]
    },
    {
      "cell_type": "code",
      "metadata": {
        "id": "XzHfozTcst9C",
        "colab_type": "code",
        "colab": {
          "base_uri": "https://localhost:8080/",
          "height": 52
        },
        "outputId": "bf9e69cc-ee0d-46b7-9f26-08c724465cf3"
      },
      "source": [
        "np.dot(B.T,A.T)"
      ],
      "execution_count": 68,
      "outputs": [
        {
          "output_type": "execute_result",
          "data": {
            "text/plain": [
              "array([[3., 3.],\n",
              "       [3., 3.]])"
            ]
          },
          "metadata": {
            "tags": []
          },
          "execution_count": 68
        }
      ]
    },
    {
      "cell_type": "code",
      "metadata": {
        "id": "Gab2gkYcsz--",
        "colab_type": "code",
        "colab": {
          "base_uri": "https://localhost:8080/",
          "height": 34
        },
        "outputId": "9ad83ebb-b2e3-4227-ba5e-ee125296a1cd"
      },
      "source": [
        "A.sum()"
      ],
      "execution_count": 71,
      "outputs": [
        {
          "output_type": "execute_result",
          "data": {
            "text/plain": [
              "6.0"
            ]
          },
          "metadata": {
            "tags": []
          },
          "execution_count": 71
        }
      ]
    },
    {
      "cell_type": "code",
      "metadata": {
        "id": "SM-Qi-Q2s9Dl",
        "colab_type": "code",
        "colab": {
          "base_uri": "https://localhost:8080/",
          "height": 34
        },
        "outputId": "102f8ce5-aee7-4b4c-d4a6-d7ec6b939990"
      },
      "source": [
        "A.sum(axis = 0)"
      ],
      "execution_count": 74,
      "outputs": [
        {
          "output_type": "execute_result",
          "data": {
            "text/plain": [
              "array([2., 2., 2.])"
            ]
          },
          "metadata": {
            "tags": []
          },
          "execution_count": 74
        }
      ]
    },
    {
      "cell_type": "code",
      "metadata": {
        "id": "i1HOlTzJtTAD",
        "colab_type": "code",
        "colab": {
          "base_uri": "https://localhost:8080/",
          "height": 34
        },
        "outputId": "c8ba3dc6-350d-492a-88c7-7b88f4bc6683"
      },
      "source": [
        "A.sum(axis = 1)"
      ],
      "execution_count": 76,
      "outputs": [
        {
          "output_type": "execute_result",
          "data": {
            "text/plain": [
              "array([3., 3.])"
            ]
          },
          "metadata": {
            "tags": []
          },
          "execution_count": 76
        }
      ]
    },
    {
      "cell_type": "code",
      "metadata": {
        "id": "OMYJVXnptYC_",
        "colab_type": "code",
        "colab": {
          "base_uri": "https://localhost:8080/",
          "height": 34
        },
        "outputId": "cbf93d9f-8d0c-447b-c3e8-b8288fb29902"
      },
      "source": [
        "A.max()"
      ],
      "execution_count": 77,
      "outputs": [
        {
          "output_type": "execute_result",
          "data": {
            "text/plain": [
              "1.0"
            ]
          },
          "metadata": {
            "tags": []
          },
          "execution_count": 77
        }
      ]
    },
    {
      "cell_type": "markdown",
      "metadata": {
        "id": "WxNS-0ljBDJD",
        "colab_type": "text"
      },
      "source": [
        ""
      ]
    }
  ]
}