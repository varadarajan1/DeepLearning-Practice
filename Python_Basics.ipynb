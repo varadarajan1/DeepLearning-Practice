{
  "nbformat": 4,
  "nbformat_minor": 0,
  "metadata": {
    "colab": {
      "name": "Python_Basics.ipynb",
      "provenance": [],
      "collapsed_sections": [
        "tKWzeQLv6xfr",
        "TVnZSDmD659d",
        "d4C1wOCH7DIV",
        "GRUYd6l78IEN",
        "__u9KcW8ERo9"
      ],
      "toc_visible": true,
      "include_colab_link": true
    },
    "kernelspec": {
      "name": "python3",
      "display_name": "Python 3"
    }
  },
  "cells": [
    {
      "cell_type": "markdown",
      "metadata": {
        "id": "view-in-github",
        "colab_type": "text"
      },
      "source": [
        "<a href=\"https://colab.research.google.com/github/varadarajan1/DeepLearning-Practice/blob/master/Python_Basics.ipynb\" target=\"_parent\"><img src=\"https://colab.research.google.com/assets/colab-badge.svg\" alt=\"Open In Colab\"/></a>"
      ]
    },
    {
      "cell_type": "markdown",
      "metadata": {
        "id": "tKWzeQLv6xfr",
        "colab_type": "text"
      },
      "source": [
        "# Data Types"
      ]
    },
    {
      "cell_type": "code",
      "metadata": {
        "id": "tPwEcyFs1vVc",
        "colab_type": "code",
        "colab": {}
      },
      "source": [
        "! ls"
      ],
      "execution_count": 0,
      "outputs": []
    },
    {
      "cell_type": "markdown",
      "metadata": {
        "id": "dfyZrzIG6Igr",
        "colab_type": "text"
      },
      "source": [
        "Add **!** in front to exceute shell commands"
      ]
    },
    {
      "cell_type": "code",
      "metadata": {
        "id": "JiCqPpHI2PmG",
        "colab_type": "code",
        "colab": {}
      },
      "source": [
        "name = \"iPhone 5s\""
      ],
      "execution_count": 0,
      "outputs": []
    },
    {
      "cell_type": "code",
      "metadata": {
        "id": "lAApCtjS2TNO",
        "colab_type": "code",
        "colab": {}
      },
      "source": [
        "type(name)"
      ],
      "execution_count": 0,
      "outputs": []
    },
    {
      "cell_type": "code",
      "metadata": {
        "id": "rYrEzUEd2VHv",
        "colab_type": "code",
        "colab": {}
      },
      "source": [
        "print(name)"
      ],
      "execution_count": 0,
      "outputs": []
    },
    {
      "cell_type": "code",
      "metadata": {
        "id": "cbTfF7s92XWO",
        "colab_type": "code",
        "colab": {}
      },
      "source": [
        "number_of_speakers = 10"
      ],
      "execution_count": 0,
      "outputs": []
    },
    {
      "cell_type": "code",
      "metadata": {
        "id": "-tXtAcA12a5t",
        "colab_type": "code",
        "colab": {}
      },
      "source": [
        "type(number_of_speakers)"
      ],
      "execution_count": 0,
      "outputs": []
    },
    {
      "cell_type": "code",
      "metadata": {
        "id": "-DhRJdyU2cxy",
        "colab_type": "code",
        "colab": {}
      },
      "source": [
        "print(\"I bought a new \"+ name)"
      ],
      "execution_count": 0,
      "outputs": []
    },
    {
      "cell_type": "code",
      "metadata": {
        "id": "7emZJQBa2pUh",
        "colab_type": "code",
        "colab": {}
      },
      "source": [
        "a = 3\n",
        "b= 2\n",
        "print(a+b, a-b, a/b, a//b, a**b)\n"
      ],
      "execution_count": 0,
      "outputs": []
    },
    {
      "cell_type": "code",
      "metadata": {
        "id": "-MdLAUn18UMd",
        "colab_type": "code",
        "colab": {}
      },
      "source": [
        "screen_size=5.7"
      ],
      "execution_count": 0,
      "outputs": []
    },
    {
      "cell_type": "code",
      "metadata": {
        "id": "9-02xYuM8Y-h",
        "colab_type": "code",
        "colab": {}
      },
      "source": [
        "print(screen_size)"
      ],
      "execution_count": 0,
      "outputs": []
    },
    {
      "cell_type": "code",
      "metadata": {
        "id": "OP7GoFZ-2qOJ",
        "colab_type": "code",
        "colab": {}
      },
      "source": [
        "is_android = False"
      ],
      "execution_count": 0,
      "outputs": []
    },
    {
      "cell_type": "code",
      "metadata": {
        "id": "nc8-xLGi278n",
        "colab_type": "code",
        "colab": {}
      },
      "source": [
        "type(is_android)"
      ],
      "execution_count": 0,
      "outputs": []
    },
    {
      "cell_type": "code",
      "metadata": {
        "id": "E2R3TRXc295C",
        "colab_type": "code",
        "colab": {}
      },
      "source": [
        "print(is_android==True)"
      ],
      "execution_count": 0,
      "outputs": []
    },
    {
      "cell_type": "code",
      "metadata": {
        "id": "ZC7w7TWh3Eeu",
        "colab_type": "code",
        "colab": {}
      },
      "source": [
        "print(is_android==False and number_of_speakers>2)"
      ],
      "execution_count": 0,
      "outputs": []
    },
    {
      "cell_type": "markdown",
      "metadata": {
        "id": "TVnZSDmD659d",
        "colab_type": "text"
      },
      "source": [
        "# Code blocks - If,For,While"
      ]
    },
    {
      "cell_type": "code",
      "metadata": {
        "id": "4xWPt4TT3Pao",
        "colab_type": "code",
        "colab": {}
      },
      "source": [
        "if(is_android == True):\n",
        "  print(name+\"supports android\")\n",
        "  print(\"Still inside android block\")\n",
        "print(\"Outside if block\")"
      ],
      "execution_count": 0,
      "outputs": []
    },
    {
      "cell_type": "code",
      "metadata": {
        "id": "NcOmvRlS3Smg",
        "colab_type": "code",
        "colab": {}
      },
      "source": [
        "for i in range(5):\n",
        "  print(i,i*i)"
      ],
      "execution_count": 0,
      "outputs": []
    },
    {
      "cell_type": "code",
      "metadata": {
        "id": "IDl9TnwB3pqY",
        "colab_type": "code",
        "colab": {}
      },
      "source": [
        "i=0\n",
        "while i<=10:\n",
        "  print(i,i*i)\n",
        "  i+=1"
      ],
      "execution_count": 0,
      "outputs": []
    },
    {
      "cell_type": "code",
      "metadata": {
        "id": "KDR2UBmI4ESJ",
        "colab_type": "code",
        "colab": {}
      },
      "source": [
        "def print_squares(number:int):\n",
        "  for i in range(number):\n",
        "    print(i,i*i)"
      ],
      "execution_count": 0,
      "outputs": []
    },
    {
      "cell_type": "markdown",
      "metadata": {
        "id": "d4C1wOCH7DIV",
        "colab_type": "text"
      },
      "source": [
        "# Functions"
      ]
    },
    {
      "cell_type": "code",
      "metadata": {
        "id": "Pnk4k9Le4SCj",
        "colab_type": "code",
        "colab": {}
      },
      "source": [
        "print_squares(4)"
      ],
      "execution_count": 0,
      "outputs": []
    },
    {
      "cell_type": "code",
      "metadata": {
        "id": "dzgsMb_44XmT",
        "colab_type": "code",
        "colab": {}
      },
      "source": [
        "def sum_of_squares(number:int)->int:\n",
        "  sum=0\n",
        "  for i in range(number):\n",
        "    sum+=i*i\n",
        "  return sum"
      ],
      "execution_count": 0,
      "outputs": []
    },
    {
      "cell_type": "code",
      "metadata": {
        "id": "RMA5iYAZ4uno",
        "colab_type": "code",
        "colab": {}
      },
      "source": [
        "sum_of_squares(5)"
      ],
      "execution_count": 0,
      "outputs": []
    },
    {
      "cell_type": "code",
      "metadata": {
        "id": "av_v53c34xsz",
        "colab_type": "code",
        "colab": {}
      },
      "source": [
        "sum_5 = sum_of_squares(5)\n",
        "print(sum_5)"
      ],
      "execution_count": 0,
      "outputs": []
    },
    {
      "cell_type": "code",
      "metadata": {
        "id": "Is9Rq7I943Tx",
        "colab_type": "code",
        "colab": {}
      },
      "source": [
        "def print_with_startVal(stop_val,start_val=0):\n",
        "  \"\"\"Prints squares of numbers between start_val(inclusive) and stop_val(exclusive)\"\"\"\n",
        "  for i in range(start_val, stop_val):\n",
        "    print(i, i*i)"
      ],
      "execution_count": 0,
      "outputs": []
    },
    {
      "cell_type": "code",
      "metadata": {
        "id": "048FXYSB5Kgs",
        "colab_type": "code",
        "colab": {}
      },
      "source": [
        "print_with_startVal(5)"
      ],
      "execution_count": 0,
      "outputs": []
    },
    {
      "cell_type": "code",
      "metadata": {
        "id": "G7Agmyxj5cdI",
        "colab_type": "code",
        "colab": {}
      },
      "source": [
        "print_with_startVal(5,1)"
      ],
      "execution_count": 0,
      "outputs": []
    },
    {
      "cell_type": "code",
      "metadata": {
        "id": "jUTNS_2n5nl6",
        "colab_type": "code",
        "colab": {}
      },
      "source": [
        "help(print_with_startVal)"
      ],
      "execution_count": 0,
      "outputs": []
    },
    {
      "cell_type": "markdown",
      "metadata": {
        "id": "GRUYd6l78IEN",
        "colab_type": "text"
      },
      "source": [
        "# Lists"
      ]
    },
    {
      "cell_type": "code",
      "metadata": {
        "id": "cR2Aj0lt8KBI",
        "colab_type": "code",
        "colab": {}
      },
      "source": [
        "my_phone=[name, is_android, screen_size]"
      ],
      "execution_count": 0,
      "outputs": []
    },
    {
      "cell_type": "code",
      "metadata": {
        "id": "NpGoZ6v48dfx",
        "colab_type": "code",
        "colab": {}
      },
      "source": [
        "type(my_phone)"
      ],
      "execution_count": 0,
      "outputs": []
    },
    {
      "cell_type": "code",
      "metadata": {
        "id": "-fF_4A9J8sPM",
        "colab_type": "code",
        "colab": {}
      },
      "source": [
        "print(my_phone)"
      ],
      "execution_count": 0,
      "outputs": []
    },
    {
      "cell_type": "code",
      "metadata": {
        "id": "qjnkFn7K8tpa",
        "colab_type": "code",
        "colab": {}
      },
      "source": [
        "my_phone[1:3]"
      ],
      "execution_count": 0,
      "outputs": []
    },
    {
      "cell_type": "code",
      "metadata": {
        "id": "g5Oot8dD896I",
        "colab_type": "code",
        "colab": {}
      },
      "source": [
        "my_dad_phone = my_phone\n",
        "print(my_dad_phone)"
      ],
      "execution_count": 0,
      "outputs": []
    },
    {
      "cell_type": "code",
      "metadata": {
        "id": "O7E8ZlOf8vxx",
        "colab_type": "code",
        "colab": {}
      },
      "source": [
        "my_phone[0]"
      ],
      "execution_count": 0,
      "outputs": []
    },
    {
      "cell_type": "code",
      "metadata": {
        "id": "IxNZ_T4H84tL",
        "colab_type": "code",
        "colab": {}
      },
      "source": [
        "my_phone[2]=4"
      ],
      "execution_count": 0,
      "outputs": []
    },
    {
      "cell_type": "code",
      "metadata": {
        "id": "gsMmq-G_9Joc",
        "colab_type": "code",
        "colab": {}
      },
      "source": [
        "print(my_dad_phone)"
      ],
      "execution_count": 0,
      "outputs": []
    },
    {
      "cell_type": "markdown",
      "metadata": {
        "id": "zk18fYd69Yps",
        "colab_type": "text"
      },
      "source": [
        "Deep Copy"
      ]
    },
    {
      "cell_type": "code",
      "metadata": {
        "id": "tzjroyOk9Z_N",
        "colab_type": "code",
        "colab": {}
      },
      "source": [
        "my_dad_phone = list(my_phone)"
      ],
      "execution_count": 0,
      "outputs": []
    },
    {
      "cell_type": "code",
      "metadata": {
        "id": "6kTU8lMT9eiw",
        "colab_type": "code",
        "colab": {}
      },
      "source": [
        "my_phone[0]='iPhone 7S'\n",
        "print(my_phone)\n",
        "print(my_dad_phone)"
      ],
      "execution_count": 0,
      "outputs": []
    },
    {
      "cell_type": "code",
      "metadata": {
        "id": "8CLQdMjC9jds",
        "colab_type": "code",
        "colab": {}
      },
      "source": [
        "len(my_phone)"
      ],
      "execution_count": 0,
      "outputs": []
    },
    {
      "cell_type": "code",
      "metadata": {
        "id": "BtfBIYsp9tNy",
        "colab_type": "code",
        "colab": {}
      },
      "source": [
        "my_phone.append(\"3G\")\n",
        "len(my_phone)"
      ],
      "execution_count": 0,
      "outputs": []
    },
    {
      "cell_type": "markdown",
      "metadata": {
        "id": "uktI2JE799uj",
        "colab_type": "text"
      },
      "source": [
        "Append a *list* to a *list*"
      ]
    },
    {
      "cell_type": "code",
      "metadata": {
        "id": "EiUtY20u-EiJ",
        "colab_type": "code",
        "colab": {}
      },
      "source": [
        "some_prefs = [\"Single sim\",100]"
      ],
      "execution_count": 0,
      "outputs": []
    },
    {
      "cell_type": "code",
      "metadata": {
        "id": "KjYVlyNI-KbG",
        "colab_type": "code",
        "colab": {}
      },
      "source": [
        "my_phone+=some_prefs"
      ],
      "execution_count": 0,
      "outputs": []
    },
    {
      "cell_type": "code",
      "metadata": {
        "id": "kpABlExN-PoP",
        "colab_type": "code",
        "colab": {}
      },
      "source": [
        "for i in my_phone:\n",
        "  print(i)"
      ],
      "execution_count": 0,
      "outputs": []
    },
    {
      "cell_type": "code",
      "metadata": {
        "id": "1bJrwlx9-XK0",
        "colab_type": "code",
        "colab": {}
      },
      "source": [
        "range(5)"
      ],
      "execution_count": 0,
      "outputs": []
    },
    {
      "cell_type": "code",
      "metadata": {
        "id": "QvpVLD1E-Sm4",
        "colab_type": "code",
        "colab": {}
      },
      "source": [
        "a = list(range(5))"
      ],
      "execution_count": 0,
      "outputs": []
    },
    {
      "cell_type": "code",
      "metadata": {
        "id": "Nc_CFVus-fJZ",
        "colab_type": "code",
        "colab": {}
      },
      "source": [
        "b = list(map(lambda x: x**2, a))\n",
        "print(b)"
      ],
      "execution_count": 0,
      "outputs": []
    },
    {
      "cell_type": "code",
      "metadata": {
        "id": "ivqpvqiO-wPg",
        "colab_type": "code",
        "colab": {}
      },
      "source": [
        "c = list(filter(lambda x: x%2==0,b))\n",
        "print(c)"
      ],
      "execution_count": 0,
      "outputs": []
    },
    {
      "cell_type": "markdown",
      "metadata": {
        "id": "__u9KcW8ERo9",
        "colab_type": "text"
      },
      "source": [
        "# Tuples, Sets and Dictionaries\n"
      ]
    },
    {
      "cell_type": "code",
      "metadata": {
        "id": "qVfMDd6L_JiU",
        "colab_type": "code",
        "colab": {}
      },
      "source": [
        "my_tuple = ('iPhone 5s', False, 4.3)\n",
        "print(my_tuple)"
      ],
      "execution_count": 0,
      "outputs": []
    },
    {
      "cell_type": "code",
      "metadata": {
        "id": "TtafWlkl_29X",
        "colab_type": "code",
        "colab": {}
      },
      "source": [
        "for data in my_tuple:\n",
        "  print(data)"
      ],
      "execution_count": 0,
      "outputs": []
    },
    {
      "cell_type": "code",
      "metadata": {
        "id": "m1yophHN_6BR",
        "colab_type": "code",
        "colab": {}
      },
      "source": [
        "# Tuples are immutable. This will throw an error\n",
        "my_tuple[1] = True "
      ],
      "execution_count": 0,
      "outputs": []
    },
    {
      "cell_type": "code",
      "metadata": {
        "id": "10rKEXVVABLX",
        "colab_type": "code",
        "colab": {}
      },
      "source": [
        "import time"
      ],
      "execution_count": 0,
      "outputs": []
    },
    {
      "cell_type": "code",
      "metadata": {
        "id": "0tcobpQ7AL2W",
        "colab_type": "code",
        "colab": {}
      },
      "source": [
        "tic = time.time()\n",
        "print(tic)"
      ],
      "execution_count": 0,
      "outputs": []
    },
    {
      "cell_type": "code",
      "metadata": {
        "id": "JQ_v_7hKAQuT",
        "colab_type": "code",
        "colab": {}
      },
      "source": [
        "time.time?"
      ],
      "execution_count": 0,
      "outputs": []
    },
    {
      "cell_type": "code",
      "metadata": {
        "id": "10WcnF_uAhYp",
        "colab_type": "code",
        "colab": {}
      },
      "source": [
        "tic = time.time()\n",
        "# Do some task\n",
        "toc = time.time()\n",
        "print(\"Time elapsed:\",toc-tic)"
      ],
      "execution_count": 0,
      "outputs": []
    },
    {
      "cell_type": "code",
      "metadata": {
        "id": "3YyJ882HAkAk",
        "colab_type": "code",
        "colab": {}
      },
      "source": [
        "a = list(range(1000000))\n",
        "tic = time.time()\n",
        "b = list(map(lambda x:x*x,a))\n",
        "toc = time.time()\n",
        "print(\"Elapsed time:\",toc-tic)"
      ],
      "execution_count": 0,
      "outputs": []
    },
    {
      "cell_type": "code",
      "metadata": {
        "id": "1oU_uZVUBFOF",
        "colab_type": "code",
        "colab": {}
      },
      "source": [
        "# Tuples are faster\n",
        "a = tuple(range(1000000))\n",
        "tic = time.time()\n",
        "b = list(map(lambda x:x*x,a))\n",
        "toc = time.time()\n",
        "print(\"Elapsed time:\",toc-tic)"
      ],
      "execution_count": 0,
      "outputs": []
    },
    {
      "cell_type": "code",
      "metadata": {
        "id": "Bh9Uyj9oDeQA",
        "colab_type": "code",
        "colab": {}
      },
      "source": [
        "# Sets don't allow duplicates\n",
        "my_set = set(my_phone)\n",
        "print(my_set)"
      ],
      "execution_count": 0,
      "outputs": []
    },
    {
      "cell_type": "code",
      "metadata": {
        "id": "SpImlGKuDyjQ",
        "colab_type": "code",
        "colab": {}
      },
      "source": [
        "my_phone.append(5.7)\n",
        "my_set = set(my_phone)\n",
        "print(my_set)"
      ],
      "execution_count": 0,
      "outputs": []
    },
    {
      "cell_type": "code",
      "metadata": {
        "id": "3WeG77PSEAr5",
        "colab_type": "code",
        "colab": {}
      },
      "source": [
        "my_phone_dic = {}\n",
        "type(my_phone_dic)"
      ],
      "execution_count": 0,
      "outputs": []
    },
    {
      "cell_type": "code",
      "metadata": {
        "id": "ZprpbMFpEmWs",
        "colab_type": "code",
        "colab": {}
      },
      "source": [
        "my_phone_dic[\"name\"]=\"iPhone 5s\"\n",
        "my_phone_dic[\"isAndroid\"]=True\n",
        "my_phone_dic[\"screenSize\"]= 4.3\n",
        "print(my_phone_dic)"
      ],
      "execution_count": 0,
      "outputs": []
    },
    {
      "cell_type": "code",
      "metadata": {
        "id": "LD8jgEcXE9RN",
        "colab_type": "code",
        "colab": {}
      },
      "source": [
        "my_phone_dic[\"screenSize\"]"
      ],
      "execution_count": 0,
      "outputs": []
    },
    {
      "cell_type": "code",
      "metadata": {
        "id": "6umf3otsFGRs",
        "colab_type": "code",
        "colab": {}
      },
      "source": [
        "my_phone_dic.values()"
      ],
      "execution_count": 0,
      "outputs": []
    },
    {
      "cell_type": "code",
      "metadata": {
        "id": "th-taLaYFNe0",
        "colab_type": "code",
        "colab": {}
      },
      "source": [
        "my_phone_dic.keys()"
      ],
      "execution_count": 0,
      "outputs": []
    },
    {
      "cell_type": "code",
      "metadata": {
        "id": "amxeYacBFTnQ",
        "colab_type": "code",
        "colab": {}
      },
      "source": [
        "for key in my_phone_dic.keys():\n",
        "  print(key,my_phone_dic[key])"
      ],
      "execution_count": 0,
      "outputs": []
    },
    {
      "cell_type": "code",
      "metadata": {
        "id": "2vDqlfVOFcSY",
        "colab_type": "code",
        "colab": {}
      },
      "source": [
        ""
      ],
      "execution_count": 0,
      "outputs": []
    },
    {
      "cell_type": "markdown",
      "metadata": {
        "id": "xRPppJNXFpfQ",
        "colab_type": "text"
      },
      "source": [
        "# Packages"
      ]
    },
    {
      "cell_type": "code",
      "metadata": {
        "id": "HVyIytHyFr67",
        "colab_type": "code",
        "colab": {}
      },
      "source": [
        "import math\n",
        "a = math.sqrt(4)\n",
        "print(a)"
      ],
      "execution_count": 0,
      "outputs": []
    },
    {
      "cell_type": "code",
      "metadata": {
        "id": "XfPLRBaxF2VU",
        "colab_type": "code",
        "colab": {}
      },
      "source": [
        "b = math.pow(2,2)"
      ],
      "execution_count": 0,
      "outputs": []
    },
    {
      "cell_type": "code",
      "metadata": {
        "id": "RcDz8ljmF8uJ",
        "colab_type": "code",
        "colab": {}
      },
      "source": [
        "import math as m\n",
        "print(m.factorial(10))"
      ],
      "execution_count": 0,
      "outputs": []
    },
    {
      "cell_type": "code",
      "metadata": {
        "id": "ucgjn1M7GRK3",
        "colab_type": "code",
        "colab": {}
      },
      "source": [
        "from math import factorial\n",
        "print(factorial(10))"
      ],
      "execution_count": 0,
      "outputs": []
    },
    {
      "cell_type": "code",
      "metadata": {
        "id": "rvspAJu9GXo3",
        "colab_type": "code",
        "colab": {}
      },
      "source": [
        "! echo 'def hello():''' > my_first_module.py\n",
        "! echo '  print(\"Hello, I am from a different file\")' >>  my_first_module.py"
      ],
      "execution_count": 0,
      "outputs": []
    },
    {
      "cell_type": "code",
      "metadata": {
        "id": "2bZogUveHohA",
        "colab_type": "code",
        "colab": {}
      },
      "source": [
        "import my_first_module\n",
        "my_first_module.hello()"
      ],
      "execution_count": 0,
      "outputs": []
    },
    {
      "cell_type": "code",
      "metadata": {
        "id": "C4MyhDUkHydM",
        "colab_type": "code",
        "colab": {}
      },
      "source": [
        "from my_first_module import hello\n",
        "hello()"
      ],
      "execution_count": 0,
      "outputs": []
    },
    {
      "cell_type": "markdown",
      "metadata": {
        "id": "rzzwy6Q_VSkL",
        "colab_type": "text"
      },
      "source": [
        "# File Handling"
      ]
    },
    {
      "cell_type": "code",
      "metadata": {
        "id": "7KdVYGKVVWlu",
        "colab_type": "code",
        "colab": {}
      },
      "source": [
        "!wget https://s3.amazonaws.com/thinkific-import/153034/mobile_cleaned-1549119762886.csv"
      ],
      "execution_count": 0,
      "outputs": []
    },
    {
      "cell_type": "code",
      "metadata": {
        "id": "dKJGswGkVtek",
        "colab_type": "code",
        "colab": {}
      },
      "source": [
        "file = open(\"mobile_cleaned-1549119762886.csv\",'r')\n",
        "print(file.readline())"
      ],
      "execution_count": 0,
      "outputs": []
    },
    {
      "cell_type": "code",
      "metadata": {
        "id": "TAlm2YL8V1HK",
        "colab_type": "code",
        "colab": {}
      },
      "source": [
        "file.close()"
      ],
      "execution_count": 0,
      "outputs": []
    },
    {
      "cell_type": "code",
      "metadata": {
        "id": "a7AZx0M9V6Nw",
        "colab_type": "code",
        "colab": {}
      },
      "source": [
        "with open(\"mobile_cleaned-1549119762886.csv\",'r') as file:\n",
        "   for line in file:\n",
        "      print(line)"
      ],
      "execution_count": 0,
      "outputs": []
    },
    {
      "cell_type": "code",
      "metadata": {
        "id": "shQLMcZWWQLZ",
        "colab_type": "code",
        "colab": {}
      },
      "source": [
        "with open(\"mobile_cleaned-1549119762886.csv\",'r') as file:\n",
        "   for line in file:\n",
        "      for word in line.split(','):\n",
        "        print(word)\n",
        "      print(\"--------------\")"
      ],
      "execution_count": 0,
      "outputs": []
    },
    {
      "cell_type": "code",
      "metadata": {
        "id": "XrA1cySWWeuG",
        "colab_type": "code",
        "colab": {}
      },
      "source": [
        "with open(\"test_output.txt\",'w') as file:\n",
        "    file.write(\"Hello world\")"
      ],
      "execution_count": 0,
      "outputs": []
    },
    {
      "cell_type": "code",
      "metadata": {
        "id": "vPH3Z5brWwUy",
        "colab_type": "code",
        "colab": {}
      },
      "source": [
        "!cat test_output.txt"
      ],
      "execution_count": 0,
      "outputs": []
    },
    {
      "cell_type": "markdown",
      "metadata": {
        "id": "Bx8tNkkW_JZi",
        "colab_type": "text"
      },
      "source": [
        "# Python Class"
      ]
    },
    {
      "cell_type": "code",
      "metadata": {
        "id": "lyyFd5FJ_Nx7",
        "colab_type": "code",
        "colab": {}
      },
      "source": [
        "class MobilePhone:\n",
        "  \"\"\"This class holds details of the mobile phone\"\"\"\n",
        "  def __init__(self, name, is_Android = False, screen_size=5.4):\n",
        "    self.name = name\n",
        "    self.is_Android = is_Android\n",
        "    self.screen_size = screen_size\n",
        "    self.ratings = -1\n",
        "  \n",
        "  def has_ratings(self)->bool:\n",
        "    return self.ratings>-1"
      ],
      "execution_count": 0,
      "outputs": []
    },
    {
      "cell_type": "code",
      "metadata": {
        "id": "krxDeEj-_ZoK",
        "colab_type": "code",
        "colab": {}
      },
      "source": [
        "new_phone = MobilePhone(\"iPhone5s\")\n",
        "print(new_phone.name, new_phone.is_Android, new_phone.screen_size)"
      ],
      "execution_count": 0,
      "outputs": []
    },
    {
      "cell_type": "code",
      "metadata": {
        "id": "qwVCL92kAVha",
        "colab_type": "code",
        "colab": {}
      },
      "source": [
        "print(new_phone.has_ratings())\n",
        "new_phone.ratings=5\n",
        "print(new_phone.has_ratings())"
      ],
      "execution_count": 0,
      "outputs": []
    },
    {
      "cell_type": "code",
      "metadata": {
        "id": "9tncbOb2A67u",
        "colab_type": "code",
        "colab": {}
      },
      "source": [
        "MobilePhone.__doc__"
      ],
      "execution_count": 0,
      "outputs": []
    },
    {
      "cell_type": "markdown",
      "metadata": {
        "id": "XKcH5b_eBD6T",
        "colab_type": "text"
      },
      "source": [
        "Inheritance in Python"
      ]
    },
    {
      "cell_type": "code",
      "metadata": {
        "id": "gvj416P9BG8D",
        "colab_type": "code",
        "colab": {}
      },
      "source": [
        "class iPhone"
      ],
      "execution_count": 0,
      "outputs": []
    },
    {
      "cell_type": "markdown",
      "metadata": {
        "id": "8fBLV0W_9PPu",
        "colab_type": "text"
      },
      "source": [
        "# NumPy"
      ]
    },
    {
      "cell_type": "code",
      "metadata": {
        "id": "YurpqmE7oHDQ",
        "colab_type": "code",
        "colab": {}
      },
      "source": [
        "import numpy as np"
      ],
      "execution_count": 0,
      "outputs": []
    },
    {
      "cell_type": "code",
      "metadata": {
        "id": "IrcnYIBcoQf1",
        "colab_type": "code",
        "colab": {}
      },
      "source": [
        "x = np.array([1,2,3])\n",
        "print(x)"
      ],
      "execution_count": 0,
      "outputs": []
    },
    {
      "cell_type": "code",
      "metadata": {
        "id": "MKO0va8ToVDa",
        "colab_type": "code",
        "colab": {}
      },
      "source": [
        "type(x)"
      ],
      "execution_count": 0,
      "outputs": []
    },
    {
      "cell_type": "code",
      "metadata": {
        "id": "4kew1Lc9ooVj",
        "colab_type": "code",
        "colab": {}
      },
      "source": [
        "l = [1,2,3]\n",
        "x = np.asarray(l)\n",
        "print(l)"
      ],
      "execution_count": 0,
      "outputs": []
    },
    {
      "cell_type": "code",
      "metadata": {
        "id": "exepUHF0ovzq",
        "colab_type": "code",
        "colab": {}
      },
      "source": [
        "x = np.asarray(l,float)\n",
        "print(x)"
      ],
      "execution_count": 0,
      "outputs": []
    },
    {
      "cell_type": "code",
      "metadata": {
        "id": "9ESXz_D_o5i7",
        "colab_type": "code",
        "colab": {}
      },
      "source": [
        "x.shape"
      ],
      "execution_count": 0,
      "outputs": []
    },
    {
      "cell_type": "code",
      "metadata": {
        "id": "APEExbf9o_Jy",
        "colab_type": "code",
        "colab": {}
      },
      "source": [
        " # help\n",
        "np.array?"
      ],
      "execution_count": 0,
      "outputs": []
    },
    {
      "cell_type": "code",
      "metadata": {
        "id": "VsBdxKE8pR-z",
        "colab_type": "code",
        "colab": {}
      },
      "source": [
        "x=np.array([[1,2,3],[4,5,6]])\n",
        "print(x)\n",
        "print(x.shape)"
      ],
      "execution_count": 0,
      "outputs": []
    },
    {
      "cell_type": "code",
      "metadata": {
        "id": "lpDUePxspoay",
        "colab_type": "code",
        "colab": {}
      },
      "source": [
        "x[1,2]"
      ],
      "execution_count": 0,
      "outputs": []
    },
    {
      "cell_type": "code",
      "metadata": {
        "id": "HMMGxCJep8mW",
        "colab_type": "code",
        "colab": {}
      },
      "source": [
        "x[1,0:3]"
      ],
      "execution_count": 0,
      "outputs": []
    },
    {
      "cell_type": "code",
      "metadata": {
        "id": "-dpxcn3Qp-YB",
        "colab_type": "code",
        "colab": {}
      },
      "source": [
        "x[0,:]"
      ],
      "execution_count": 0,
      "outputs": []
    },
    {
      "cell_type": "code",
      "metadata": {
        "id": "uARPA3L8qE1K",
        "colab_type": "code",
        "colab": {}
      },
      "source": [
        "x=np.zeros((4,5))"
      ],
      "execution_count": 0,
      "outputs": []
    },
    {
      "cell_type": "code",
      "metadata": {
        "id": "lu0Zk2DlqD_4",
        "colab_type": "code",
        "colab": {}
      },
      "source": [
        "print(x)"
      ],
      "execution_count": 0,
      "outputs": []
    },
    {
      "cell_type": "code",
      "metadata": {
        "id": "WuXjozPnqZnj",
        "colab_type": "code",
        "colab": {}
      },
      "source": [
        "x = np.eye(4,4)\n",
        "print(x)"
      ],
      "execution_count": 0,
      "outputs": []
    },
    {
      "cell_type": "code",
      "metadata": {
        "id": "NNPnuLz_qitD",
        "colab_type": "code",
        "colab": {}
      },
      "source": [
        "x = np.random.random((4,5))\n",
        "print(x)"
      ],
      "execution_count": 0,
      "outputs": []
    },
    {
      "cell_type": "code",
      "metadata": {
        "id": "j-lH468Cqngy",
        "colab_type": "code",
        "colab": {}
      },
      "source": [
        "# Transpose\n",
        "z = x.T\n",
        "print(z)"
      ],
      "execution_count": 0,
      "outputs": []
    },
    {
      "cell_type": "code",
      "metadata": {
        "id": "YayGqWc_q6hK",
        "colab_type": "code",
        "colab": {}
      },
      "source": [
        "y = x.reshape(20,1)\n",
        "print(y)"
      ],
      "execution_count": 0,
      "outputs": []
    },
    {
      "cell_type": "code",
      "metadata": {
        "id": "2-8OwMt9rSId",
        "colab_type": "code",
        "colab": {}
      },
      "source": [
        "A = np.arange(5)\n",
        "print(A)"
      ],
      "execution_count": 0,
      "outputs": []
    },
    {
      "cell_type": "code",
      "metadata": {
        "id": "mgZsWzYarhxV",
        "colab_type": "code",
        "colab": {}
      },
      "source": [
        "B = np.arange(5)\n",
        "C = A+B\n",
        "D = A-B\n",
        "E = A * B\n",
        "print(C,D,E)"
      ],
      "execution_count": 0,
      "outputs": []
    },
    {
      "cell_type": "code",
      "metadata": {
        "id": "cRtSIVgCrqir",
        "colab_type": "code",
        "colab": {}
      },
      "source": [
        "print(A, A+1)"
      ],
      "execution_count": 0,
      "outputs": []
    },
    {
      "cell_type": "code",
      "metadata": {
        "id": "BBdUqZIPrYRz",
        "colab_type": "code",
        "colab": {}
      },
      "source": [
        "A = np.random.random([2,4])\n",
        "print(A)\n",
        "print(A+1)"
      ],
      "execution_count": 0,
      "outputs": []
    },
    {
      "cell_type": "code",
      "metadata": {
        "id": "0fCsxPXEr3RI",
        "colab_type": "code",
        "colab": {}
      },
      "source": [
        "A = np.floor(np.random.np.random.random([2,3])*10)\n",
        "print(A)"
      ],
      "execution_count": 0,
      "outputs": []
    },
    {
      "cell_type": "code",
      "metadata": {
        "id": "7HIaRsD5sGiQ",
        "colab_type": "code",
        "colab": {}
      },
      "source": [
        "u = [1,2,3]\n",
        "v =[-1,0,1]\n",
        "\n",
        "p1 = np.inner(u,v)\n",
        "print(p1)"
      ],
      "execution_count": 0,
      "outputs": []
    },
    {
      "cell_type": "code",
      "metadata": {
        "id": "EPnpkb80saL9",
        "colab_type": "code",
        "colab": {}
      },
      "source": [
        "p2 = np.outer(u,v)\n",
        "print(p2)"
      ],
      "execution_count": 0,
      "outputs": []
    },
    {
      "cell_type": "code",
      "metadata": {
        "id": "6ajf0fQSsi0Q",
        "colab_type": "code",
        "colab": {}
      },
      "source": [
        "A = np.ones([2,3])\n",
        "B = np.ones((3,2))\n",
        "np.dot(A,B)"
      ],
      "execution_count": 0,
      "outputs": []
    },
    {
      "cell_type": "code",
      "metadata": {
        "id": "XzHfozTcst9C",
        "colab_type": "code",
        "colab": {}
      },
      "source": [
        "np.dot(B.T,A.T)"
      ],
      "execution_count": 0,
      "outputs": []
    },
    {
      "cell_type": "code",
      "metadata": {
        "id": "Gab2gkYcsz--",
        "colab_type": "code",
        "colab": {}
      },
      "source": [
        "A.sum()"
      ],
      "execution_count": 0,
      "outputs": []
    },
    {
      "cell_type": "code",
      "metadata": {
        "id": "SM-Qi-Q2s9Dl",
        "colab_type": "code",
        "colab": {}
      },
      "source": [
        "A.sum(axis = 0)"
      ],
      "execution_count": 0,
      "outputs": []
    },
    {
      "cell_type": "code",
      "metadata": {
        "id": "i1HOlTzJtTAD",
        "colab_type": "code",
        "colab": {}
      },
      "source": [
        "A.sum(axis = 1)"
      ],
      "execution_count": 0,
      "outputs": []
    },
    {
      "cell_type": "code",
      "metadata": {
        "id": "OMYJVXnptYC_",
        "colab_type": "code",
        "colab": {}
      },
      "source": [
        "A.max()"
      ],
      "execution_count": 0,
      "outputs": []
    },
    {
      "cell_type": "markdown",
      "metadata": {
        "id": "WxNS-0ljBDJD",
        "colab_type": "text"
      },
      "source": [
        ""
      ]
    },
    {
      "cell_type": "markdown",
      "metadata": {
        "id": "InnivrpRttFs",
        "colab_type": "text"
      },
      "source": [
        "# Plotting"
      ]
    },
    {
      "cell_type": "code",
      "metadata": {
        "id": "o71WH0a0tuxI",
        "colab_type": "code",
        "colab": {}
      },
      "source": [
        "import matplotlib.pyplot as plt\n",
        "import numpy as np"
      ],
      "execution_count": 0,
      "outputs": []
    },
    {
      "cell_type": "code",
      "metadata": {
        "id": "FVaWEoQut0BK",
        "colab_type": "code",
        "colab": {}
      },
      "source": [
        "x = np.random.random([10,1])\n",
        "plt.plot(x, 'x-')\n",
        "plt.show()"
      ],
      "execution_count": 0,
      "outputs": []
    },
    {
      "cell_type": "code",
      "metadata": {
        "id": "PXwKLQI8-8bI",
        "colab_type": "code",
        "colab": {}
      },
      "source": [
        "x = np.linspace(0,100,100)\n",
        "y = np.power(x,2)\n",
        "plt.plot(x,y,\"*\")\n",
        "plt.show()"
      ],
      "execution_count": 0,
      "outputs": []
    },
    {
      "cell_type": "code",
      "metadata": {
        "id": "qxDEpkhS-vxC",
        "colab_type": "code",
        "colab": {}
      },
      "source": [
        "import seaborn as sns"
      ],
      "execution_count": 0,
      "outputs": []
    },
    {
      "cell_type": "code",
      "metadata": {
        "id": "LQLrKyzY_eNj",
        "colab_type": "code",
        "colab": {}
      },
      "source": [
        "sns.set()"
      ],
      "execution_count": 0,
      "outputs": []
    },
    {
      "cell_type": "code",
      "metadata": {
        "id": "k7nX6x11_f2_",
        "colab_type": "code",
        "colab": {}
      },
      "source": [
        "sns.lineplot(x,y)"
      ],
      "execution_count": 0,
      "outputs": []
    },
    {
      "cell_type": "code",
      "metadata": {
        "id": "VzGZC7Jm_igt",
        "colab_type": "code",
        "colab": {}
      },
      "source": [
        "!wget https://s3.amazonaws.com/thinkific-import/153034/mobile_cleaned-1549119762886.csv"
      ],
      "execution_count": 0,
      "outputs": []
    },
    {
      "cell_type": "code",
      "metadata": {
        "id": "o4mm6JT0Aa5e",
        "colab_type": "code",
        "colab": {}
      },
      "source": [
        "import pandas as pd\n",
        "data = pd.read_csv('mobile_cleaned.csv')\n",
        "data.head()"
      ],
      "execution_count": 0,
      "outputs": []
    },
    {
      "cell_type": "code",
      "metadata": {
        "id": "V0ML_51PAleR",
        "colab_type": "code",
        "colab": {}
      },
      "source": [
        "ax = sns.scatterplot(x=\"stand_by_time\", y=\"battery_capacity\", data=data)"
      ],
      "execution_count": 0,
      "outputs": []
    },
    {
      "cell_type": "code",
      "metadata": {
        "id": "yGi-C4sxA0xz",
        "colab_type": "code",
        "colab": {}
      },
      "source": [
        "ax = sns.scatterplot(x=\"stand_by_time\", y=\"battery_capacity\",hue=\"thickness\", data=data)"
      ],
      "execution_count": 0,
      "outputs": []
    },
    {
      "cell_type": "code",
      "metadata": {
        "id": "0chCnpz5Edrs",
        "colab_type": "code",
        "colab": {}
      },
      "source": [
        "ax = sns.distplot(data[\"stand_by_time\"])"
      ],
      "execution_count": 0,
      "outputs": []
    },
    {
      "cell_type": "code",
      "metadata": {
        "id": "ZiMgZOPMEhbF",
        "colab_type": "code",
        "colab": {}
      },
      "source": [
        "ax = sns.distplot(data[\"stand_by_time\"], kde=False, rug=True, bins=20)"
      ],
      "execution_count": 0,
      "outputs": []
    },
    {
      "cell_type": "code",
      "metadata": {
        "id": "8AmNk3XxEzAW",
        "colab_type": "code",
        "colab": {}
      },
      "source": [
        "ax = sns.boxplot(x=\"is_liked\", y=\"battery_capacity\", data=data)"
      ],
      "execution_count": 0,
      "outputs": []
    },
    {
      "cell_type": "code",
      "metadata": {
        "id": "Xduwc8Y9FAp8",
        "colab_type": "code",
        "colab": {}
      },
      "source": [
        "ax =sns.boxplot(x=\"expandable_memory\",y=\"price\", data=data)"
      ],
      "execution_count": 0,
      "outputs": []
    },
    {
      "cell_type": "code",
      "metadata": {
        "id": "lcIt-EV_FUc8",
        "colab_type": "code",
        "colab": {}
      },
      "source": [
        "uniform_data = np.random.rand(10,12)\n",
        "print(uniform_data)"
      ],
      "execution_count": 0,
      "outputs": []
    },
    {
      "cell_type": "code",
      "metadata": {
        "id": "BqfwowqFFwv_",
        "colab_type": "code",
        "colab": {}
      },
      "source": [
        "ax = sns.heatmap(uniform_data, cmap=\"YlGnBu\")"
      ],
      "execution_count": 0,
      "outputs": []
    },
    {
      "cell_type": "code",
      "metadata": {
        "id": "a3WY1xTMF0l7",
        "colab_type": "code",
        "colab": {}
      },
      "source": [
        "! wget https://miro.medium.com/max/950/1*sUHVxRoPHoZpPi7XjmVkzg.png"
      ],
      "execution_count": 0,
      "outputs": []
    },
    {
      "cell_type": "code",
      "metadata": {
        "id": "eGVGz8FXGNTd",
        "colab_type": "code",
        "colab": {}
      },
      "source": [
        "! mv 1\\*sUHVxRoPHoZpPi7XjmVkzg.png sample.png"
      ],
      "execution_count": 0,
      "outputs": []
    },
    {
      "cell_type": "code",
      "metadata": {
        "id": "x_GOUJMKGUvc",
        "colab_type": "code",
        "colab": {}
      },
      "source": [
        "import matplotlib.image as mpimg"
      ],
      "execution_count": 0,
      "outputs": []
    },
    {
      "cell_type": "code",
      "metadata": {
        "id": "cVIriWyYGYiU",
        "colab_type": "code",
        "colab": {}
      },
      "source": [
        "img = mpimg.imread('sample.png')\n",
        "print(img)"
      ],
      "execution_count": 0,
      "outputs": []
    },
    {
      "cell_type": "code",
      "metadata": {
        "id": "NGy6hxOAGkzO",
        "colab_type": "code",
        "colab": {}
      },
      "source": [
        "imgplot = plt.imshow(img)"
      ],
      "execution_count": 0,
      "outputs": []
    }
  ]
}