{
  "nbformat": 4,
  "nbformat_minor": 0,
  "metadata": {
    "colab": {
      "name": "Python_Basics.ipynb",
      "version": "0.3.2",
      "provenance": [],
      "collapsed_sections": [
        "tKWzeQLv6xfr",
        "TVnZSDmD659d",
        "d4C1wOCH7DIV"
      ],
      "include_colab_link": true
    },
    "kernelspec": {
      "name": "python3",
      "display_name": "Python 3"
    }
  },
  "cells": [
    {
      "cell_type": "markdown",
      "metadata": {
        "id": "view-in-github",
        "colab_type": "text"
      },
      "source": [
        "<a href=\"https://colab.research.google.com/github/varadarajan1/DeepLearning-Practice/blob/master/Python_Basics.ipynb\" target=\"_parent\"><img src=\"https://colab.research.google.com/assets/colab-badge.svg\" alt=\"Open In Colab\"/></a>"
      ]
    },
    {
      "cell_type": "markdown",
      "metadata": {
        "id": "tKWzeQLv6xfr",
        "colab_type": "text"
      },
      "source": [
        "# Data Types"
      ]
    },
    {
      "cell_type": "code",
      "metadata": {
        "id": "tPwEcyFs1vVc",
        "colab_type": "code",
        "colab": {
          "base_uri": "https://localhost:8080/",
          "height": 34
        },
        "outputId": "db53f52a-deb1-455b-c5a3-c13b9c25bf2a"
      },
      "source": [
        "! ls"
      ],
      "execution_count": 2,
      "outputs": [
        {
          "output_type": "stream",
          "text": [
            "sample_data\n"
          ],
          "name": "stdout"
        }
      ]
    },
    {
      "cell_type": "markdown",
      "metadata": {
        "id": "dfyZrzIG6Igr",
        "colab_type": "text"
      },
      "source": [
        "Add **!** in front to exceute shell commands"
      ]
    },
    {
      "cell_type": "code",
      "metadata": {
        "id": "JiCqPpHI2PmG",
        "colab_type": "code",
        "colab": {}
      },
      "source": [
        "str = \"iPhone 5s\""
      ],
      "execution_count": 0,
      "outputs": []
    },
    {
      "cell_type": "code",
      "metadata": {
        "id": "lAApCtjS2TNO",
        "colab_type": "code",
        "colab": {
          "base_uri": "https://localhost:8080/",
          "height": 34
        },
        "outputId": "6f701d1a-8c07-4cdf-c51c-7dc01a0626ee"
      },
      "source": [
        "type(str)"
      ],
      "execution_count": 4,
      "outputs": [
        {
          "output_type": "execute_result",
          "data": {
            "text/plain": [
              "str"
            ]
          },
          "metadata": {
            "tags": []
          },
          "execution_count": 4
        }
      ]
    },
    {
      "cell_type": "code",
      "metadata": {
        "id": "rYrEzUEd2VHv",
        "colab_type": "code",
        "colab": {
          "base_uri": "https://localhost:8080/",
          "height": 34
        },
        "outputId": "a6aadb2a-49c3-44ef-f5b0-e9dc63aee3f7"
      },
      "source": [
        "print(str)"
      ],
      "execution_count": 5,
      "outputs": [
        {
          "output_type": "stream",
          "text": [
            "iPhone 5s\n"
          ],
          "name": "stdout"
        }
      ]
    },
    {
      "cell_type": "code",
      "metadata": {
        "id": "cbTfF7s92XWO",
        "colab_type": "code",
        "colab": {}
      },
      "source": [
        "number_of_speakers = 10"
      ],
      "execution_count": 0,
      "outputs": []
    },
    {
      "cell_type": "code",
      "metadata": {
        "id": "-tXtAcA12a5t",
        "colab_type": "code",
        "colab": {
          "base_uri": "https://localhost:8080/",
          "height": 34
        },
        "outputId": "3be3ac12-a83d-4969-e72f-3dd4733ecf57"
      },
      "source": [
        "type(number_of_speakers)"
      ],
      "execution_count": 8,
      "outputs": [
        {
          "output_type": "execute_result",
          "data": {
            "text/plain": [
              "int"
            ]
          },
          "metadata": {
            "tags": []
          },
          "execution_count": 8
        }
      ]
    },
    {
      "cell_type": "code",
      "metadata": {
        "id": "-DhRJdyU2cxy",
        "colab_type": "code",
        "colab": {
          "base_uri": "https://localhost:8080/",
          "height": 34
        },
        "outputId": "ca74b002-2ee1-4700-8689-6c23152d18a4"
      },
      "source": [
        "print(\"I bought a new \"+ str)"
      ],
      "execution_count": 9,
      "outputs": [
        {
          "output_type": "stream",
          "text": [
            "I bought a new iPhone 5s\n"
          ],
          "name": "stdout"
        }
      ]
    },
    {
      "cell_type": "code",
      "metadata": {
        "id": "7emZJQBa2pUh",
        "colab_type": "code",
        "colab": {
          "base_uri": "https://localhost:8080/",
          "height": 34
        },
        "outputId": "32cce420-680e-40d8-a1e5-c89cafd9d149"
      },
      "source": [
        "a = 3\n",
        "b= 2\n",
        "print(a+b, a-b, a/b, a//b, a**b)\n"
      ],
      "execution_count": 11,
      "outputs": [
        {
          "output_type": "stream",
          "text": [
            "5 1 1.5 1 9\n"
          ],
          "name": "stdout"
        }
      ]
    },
    {
      "cell_type": "code",
      "metadata": {
        "id": "OP7GoFZ-2qOJ",
        "colab_type": "code",
        "colab": {}
      },
      "source": [
        "is_android = False"
      ],
      "execution_count": 0,
      "outputs": []
    },
    {
      "cell_type": "code",
      "metadata": {
        "id": "nc8-xLGi278n",
        "colab_type": "code",
        "colab": {
          "base_uri": "https://localhost:8080/",
          "height": 34
        },
        "outputId": "0faa23bb-77ca-46d2-bca5-b8f48c26c937"
      },
      "source": [
        "type(is_android)"
      ],
      "execution_count": 13,
      "outputs": [
        {
          "output_type": "execute_result",
          "data": {
            "text/plain": [
              "bool"
            ]
          },
          "metadata": {
            "tags": []
          },
          "execution_count": 13
        }
      ]
    },
    {
      "cell_type": "code",
      "metadata": {
        "id": "E2R3TRXc295C",
        "colab_type": "code",
        "colab": {
          "base_uri": "https://localhost:8080/",
          "height": 34
        },
        "outputId": "0dc8d7ec-27be-412c-d999-4494d36fee62"
      },
      "source": [
        "print(is_android==True)"
      ],
      "execution_count": 15,
      "outputs": [
        {
          "output_type": "stream",
          "text": [
            "False\n"
          ],
          "name": "stdout"
        }
      ]
    },
    {
      "cell_type": "code",
      "metadata": {
        "id": "ZC7w7TWh3Eeu",
        "colab_type": "code",
        "colab": {
          "base_uri": "https://localhost:8080/",
          "height": 34
        },
        "outputId": "cefa8663-15d4-4b73-bcd9-29c8a311d002"
      },
      "source": [
        "print(is_android==False and number_of_speakers>2)"
      ],
      "execution_count": 16,
      "outputs": [
        {
          "output_type": "stream",
          "text": [
            "True\n"
          ],
          "name": "stdout"
        }
      ]
    },
    {
      "cell_type": "markdown",
      "metadata": {
        "id": "TVnZSDmD659d",
        "colab_type": "text"
      },
      "source": [
        "# Code blocks - If,For,While"
      ]
    },
    {
      "cell_type": "code",
      "metadata": {
        "id": "4xWPt4TT3Pao",
        "colab_type": "code",
        "colab": {
          "base_uri": "https://localhost:8080/",
          "height": 34
        },
        "outputId": "740ea48b-6b01-44c3-cdf4-1d759e00648b"
      },
      "source": [
        "if(is_android == True):\n",
        "  print(name+\"supports android\")\n",
        "  print(\"Still inside android block\")\n",
        "print(\"Outside if block\")"
      ],
      "execution_count": 21,
      "outputs": [
        {
          "output_type": "stream",
          "text": [
            "Outside if block\n"
          ],
          "name": "stdout"
        }
      ]
    },
    {
      "cell_type": "code",
      "metadata": {
        "id": "NcOmvRlS3Smg",
        "colab_type": "code",
        "colab": {
          "base_uri": "https://localhost:8080/",
          "height": 104
        },
        "outputId": "ac2bb5d5-26d1-409b-c159-fa8b6110b1af"
      },
      "source": [
        "for i in range(5):\n",
        "  print(i,i*i)"
      ],
      "execution_count": 26,
      "outputs": [
        {
          "output_type": "stream",
          "text": [
            "0 0\n",
            "1 1\n",
            "2 4\n",
            "3 9\n",
            "4 16\n"
          ],
          "name": "stdout"
        }
      ]
    },
    {
      "cell_type": "code",
      "metadata": {
        "id": "IDl9TnwB3pqY",
        "colab_type": "code",
        "colab": {
          "base_uri": "https://localhost:8080/",
          "height": 208
        },
        "outputId": "a2c73c15-396e-4c90-d3df-10d1a2d08b02"
      },
      "source": [
        "i=0\n",
        "while i<=10:\n",
        "  print(i,i*i)\n",
        "  i+=1"
      ],
      "execution_count": 30,
      "outputs": [
        {
          "output_type": "stream",
          "text": [
            "0 0\n",
            "1 1\n",
            "2 4\n",
            "3 9\n",
            "4 16\n",
            "5 25\n",
            "6 36\n",
            "7 49\n",
            "8 64\n",
            "9 81\n",
            "10 100\n"
          ],
          "name": "stdout"
        }
      ]
    },
    {
      "cell_type": "code",
      "metadata": {
        "id": "KDR2UBmI4ESJ",
        "colab_type": "code",
        "colab": {}
      },
      "source": [
        "def print_squares(number:int):\n",
        "  for i in range(number):\n",
        "    print(i,i*i)"
      ],
      "execution_count": 0,
      "outputs": []
    },
    {
      "cell_type": "markdown",
      "metadata": {
        "id": "d4C1wOCH7DIV",
        "colab_type": "text"
      },
      "source": [
        "# Functions"
      ]
    },
    {
      "cell_type": "code",
      "metadata": {
        "id": "Pnk4k9Le4SCj",
        "colab_type": "code",
        "colab": {
          "base_uri": "https://localhost:8080/",
          "height": 86
        },
        "outputId": "43ca4451-740b-4731-f907-aec9c21471c8"
      },
      "source": [
        "print_squares(4)"
      ],
      "execution_count": 33,
      "outputs": [
        {
          "output_type": "stream",
          "text": [
            "0 0\n",
            "1 1\n",
            "2 4\n",
            "3 9\n"
          ],
          "name": "stdout"
        }
      ]
    },
    {
      "cell_type": "code",
      "metadata": {
        "id": "dzgsMb_44XmT",
        "colab_type": "code",
        "colab": {}
      },
      "source": [
        "def sum_of_squares(number:int)->int:\n",
        "  sum=0\n",
        "  for i in range(number):\n",
        "    sum+=i*i\n",
        "  return sum"
      ],
      "execution_count": 0,
      "outputs": []
    },
    {
      "cell_type": "code",
      "metadata": {
        "id": "RMA5iYAZ4uno",
        "colab_type": "code",
        "colab": {
          "base_uri": "https://localhost:8080/",
          "height": 34
        },
        "outputId": "adb94475-233f-4229-beba-07142c94a1c4"
      },
      "source": [
        "sum_of_squares(5)"
      ],
      "execution_count": 35,
      "outputs": [
        {
          "output_type": "execute_result",
          "data": {
            "text/plain": [
              "30"
            ]
          },
          "metadata": {
            "tags": []
          },
          "execution_count": 35
        }
      ]
    },
    {
      "cell_type": "code",
      "metadata": {
        "id": "av_v53c34xsz",
        "colab_type": "code",
        "colab": {
          "base_uri": "https://localhost:8080/",
          "height": 34
        },
        "outputId": "2db43176-f594-4751-c3d4-6e671afb3c35"
      },
      "source": [
        "sum_5 = sum_of_squares(5)\n",
        "print(sum_5)"
      ],
      "execution_count": 36,
      "outputs": [
        {
          "output_type": "stream",
          "text": [
            "30\n"
          ],
          "name": "stdout"
        }
      ]
    },
    {
      "cell_type": "code",
      "metadata": {
        "id": "Is9Rq7I943Tx",
        "colab_type": "code",
        "colab": {}
      },
      "source": [
        "def print_with_startVal(stop_val,start_val=0):\n",
        "  \"\"\"Prints squares of numbers between start_val(inclusive) and stop_val(exclusive)\"\"\"\n",
        "  for i in range(start_val, stop_val):\n",
        "    print(i, i*i)"
      ],
      "execution_count": 0,
      "outputs": []
    },
    {
      "cell_type": "code",
      "metadata": {
        "id": "048FXYSB5Kgs",
        "colab_type": "code",
        "colab": {
          "base_uri": "https://localhost:8080/",
          "height": 104
        },
        "outputId": "fbb8b252-87d9-4fef-82a2-a3e0f15a06ce"
      },
      "source": [
        "print_with_startVal(5)"
      ],
      "execution_count": 40,
      "outputs": [
        {
          "output_type": "stream",
          "text": [
            "0 0\n",
            "1 1\n",
            "2 4\n",
            "3 9\n",
            "4 16\n"
          ],
          "name": "stdout"
        }
      ]
    },
    {
      "cell_type": "code",
      "metadata": {
        "id": "G7Agmyxj5cdI",
        "colab_type": "code",
        "colab": {
          "base_uri": "https://localhost:8080/",
          "height": 86
        },
        "outputId": "fef44d56-5fa8-4590-98f5-681f199da701"
      },
      "source": [
        "print_with_startVal(5,1)"
      ],
      "execution_count": 43,
      "outputs": [
        {
          "output_type": "stream",
          "text": [
            "1 1\n",
            "2 4\n",
            "3 9\n",
            "4 16\n"
          ],
          "name": "stdout"
        }
      ]
    },
    {
      "cell_type": "code",
      "metadata": {
        "id": "jUTNS_2n5nl6",
        "colab_type": "code",
        "colab": {
          "base_uri": "https://localhost:8080/",
          "height": 104
        },
        "outputId": "fc8e3cce-42e4-4ae6-e145-21a7495f674d"
      },
      "source": [
        "help(print_with_startVal)"
      ],
      "execution_count": 45,
      "outputs": [
        {
          "output_type": "stream",
          "text": [
            "Help on function print_with_startVal in module __main__:\n",
            "\n",
            "print_with_startVal(stop_val, start_val=0)\n",
            "    Prints squares of numbers between start_val(inclusive) and stop_val(exclusive)\n",
            "\n"
          ],
          "name": "stdout"
        }
      ]
    }
  ]
}